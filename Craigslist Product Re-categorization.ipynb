{
 "cells": [
  {
   "cell_type": "markdown",
   "id": "1abeac9f",
   "metadata": {},
   "source": [
    "## Importing the Library"
   ]
  },
  {
   "cell_type": "code",
   "execution_count": 1,
   "id": "3f146649",
   "metadata": {},
   "outputs": [],
   "source": [
    "import pandas as pd\n",
    "import numpy as np\n",
    "\n",
    "import matplotlib.pyplot as plt\n",
    "import seaborn as sns\n",
    "\n",
    "import optuna\n",
    "from sklearn.model_selection import GridSearchCV\n",
    "\n",
    "import nltk\n",
    "from nltk.corpus import stopwords\n",
    "\n",
    "from sklearn.tree import DecisionTreeClassifier \n",
    "from sklearn.linear_model import LogisticRegression\n",
    "from sklearn.naive_bayes import MultinomialNB\n",
    "from xgboost import XGBClassifier\n",
    "from sklearn.neural_network import MLPClassifier\n",
    "from sklearn.ensemble import RandomForestClassifier\n",
    "import lightgbm as lgb\n",
    "from catboost import CatBoostClassifier\n",
    "\n",
    "from sklearn.metrics import accuracy_score\n",
    "from sklearn.metrics import classification_report, confusion_matrix\n",
    "from sklearn.model_selection import train_test_split\n",
    "from sklearn.feature_extraction.text import TfidfVectorizer\n",
    "from sklearn.pipeline import Pipeline"
   ]
  },
  {
   "cell_type": "markdown",
   "id": "f0bc022e",
   "metadata": {},
   "source": [
    "## Input Data and Pre-processing"
   ]
  },
  {
   "cell_type": "code",
   "execution_count": 2,
   "id": "fc891cf0",
   "metadata": {},
   "outputs": [],
   "source": [
    "df=pd.read_csv('AUD_Final_craig_new.csv')"
   ]
  },
  {
   "cell_type": "code",
   "execution_count": 3,
   "id": "e35a9731",
   "metadata": {},
   "outputs": [
    {
     "data": {
      "text/html": [
       "<div>\n",
       "<style scoped>\n",
       "    .dataframe tbody tr th:only-of-type {\n",
       "        vertical-align: middle;\n",
       "    }\n",
       "\n",
       "    .dataframe tbody tr th {\n",
       "        vertical-align: top;\n",
       "    }\n",
       "\n",
       "    .dataframe thead th {\n",
       "        text-align: right;\n",
       "    }\n",
       "</style>\n",
       "<table border=\"1\" class=\"dataframe\">\n",
       "  <thead>\n",
       "    <tr style=\"text-align: right;\">\n",
       "      <th></th>\n",
       "      <th>Label</th>\n",
       "      <th>Product_Url</th>\n",
       "      <th>Content</th>\n",
       "      <th>header</th>\n",
       "    </tr>\n",
       "  </thead>\n",
       "  <tbody>\n",
       "    <tr>\n",
       "      <th>0</th>\n",
       "      <td>Not a Computer</td>\n",
       "      <td>https://chicago.craigslist.org/nwc/sys/d/batav...</td>\n",
       "      <td>Very good shape, photo shows phone being charg...</td>\n",
       "      <td>Apple Mag Safe charger  -  $20  (Batavia)</td>\n",
       "    </tr>\n",
       "    <tr>\n",
       "      <th>1</th>\n",
       "      <td>Not a Computer</td>\n",
       "      <td>https://chicago.craigslist.org/nwc/sys/d/chica...</td>\n",
       "      <td>Ibenzer Anti Blue Light Anti Glare Screen Prot...</td>\n",
       "      <td>MacBook Pro 16 Screen Protector 2019-2020  - ...</td>\n",
       "    </tr>\n",
       "    <tr>\n",
       "      <th>2</th>\n",
       "      <td>Not a Computer</td>\n",
       "      <td>https://chicago.craigslist.org/nwc/sys/d/lisle...</td>\n",
       "      <td>2 NIB Brand New Medion Wireless Keyboard and M...</td>\n",
       "      <td>NaN</td>\n",
       "    </tr>\n",
       "    <tr>\n",
       "      <th>3</th>\n",
       "      <td>Not a Computer</td>\n",
       "      <td>https://chicago.craigslist.org/nwc/sys/d/naper...</td>\n",
       "      <td>New, in box and sealed, HP LaserJet wireless m...</td>\n",
       "      <td>New Sealed HP LaserJet Full Duplex Wireless L...</td>\n",
       "    </tr>\n",
       "    <tr>\n",
       "      <th>4</th>\n",
       "      <td>Not a Computer</td>\n",
       "      <td>https://chicago.craigslist.org/nwc/sys/d/naper...</td>\n",
       "      <td>New and sealed in box D-Link 5-port 10/100 des...</td>\n",
       "      <td>New and Sealed D-Link 5 Port Desktop Switch  ...</td>\n",
       "    </tr>\n",
       "  </tbody>\n",
       "</table>\n",
       "</div>"
      ],
      "text/plain": [
       "            Label                                        Product_Url  \\\n",
       "0  Not a Computer  https://chicago.craigslist.org/nwc/sys/d/batav...   \n",
       "1  Not a Computer  https://chicago.craigslist.org/nwc/sys/d/chica...   \n",
       "2  Not a Computer  https://chicago.craigslist.org/nwc/sys/d/lisle...   \n",
       "3  Not a Computer  https://chicago.craigslist.org/nwc/sys/d/naper...   \n",
       "4  Not a Computer  https://chicago.craigslist.org/nwc/sys/d/naper...   \n",
       "\n",
       "                                             Content  \\\n",
       "0  Very good shape, photo shows phone being charg...   \n",
       "1  Ibenzer Anti Blue Light Anti Glare Screen Prot...   \n",
       "2  2 NIB Brand New Medion Wireless Keyboard and M...   \n",
       "3  New, in box and sealed, HP LaserJet wireless m...   \n",
       "4  New and sealed in box D-Link 5-port 10/100 des...   \n",
       "\n",
       "                                              header  \n",
       "0        Apple Mag Safe charger  -  $20  (Batavia)    \n",
       "1   MacBook Pro 16 Screen Protector 2019-2020  - ...  \n",
       "2                                                NaN  \n",
       "3   New Sealed HP LaserJet Full Duplex Wireless L...  \n",
       "4   New and Sealed D-Link 5 Port Desktop Switch  ...  "
      ]
     },
     "execution_count": 3,
     "metadata": {},
     "output_type": "execute_result"
    }
   ],
   "source": [
    "df.head()"
   ]
  },
  {
   "cell_type": "code",
   "execution_count": 4,
   "id": "4d7f69bf",
   "metadata": {},
   "outputs": [
    {
     "name": "stdout",
     "output_type": "stream",
     "text": [
      "The number of rows and columns in the dataset are: (2143, 4)\n"
     ]
    }
   ],
   "source": [
    "print('The number of rows and columns in the dataset are:',df.shape)"
   ]
  },
  {
   "cell_type": "code",
   "execution_count": 5,
   "id": "f49673cc",
   "metadata": {},
   "outputs": [
    {
     "name": "stdout",
     "output_type": "stream",
     "text": [
      "                Count  Percentage\n",
      "Computer         1287   60.055996\n",
      "Not a Computer    856   39.944004\n"
     ]
    },
    {
     "data": {
      "image/png": "[encoded data removed]",
      "text/plain": [
       "<Figure size 576x432 with 1 Axes>"
      ]
     },
     "metadata": {
      "needs_background": "light"
     },
     "output_type": "display_data"
    }
   ],
   "source": [
    "value_counts=df['Label'].value_counts()\n",
    "percentage=(value_counts/len(df))*100\n",
    "result=pd.DataFrame({'Count': value_counts, 'Percentage': percentage})\n",
    "print(result)\n",
    "\n",
    "result['Count'].plot(kind='bar', figsize=(8, 6))\n",
    "plt.title('Number of Records by Label')\n",
    "plt.xlabel('Label Category')\n",
    "plt.ylabel('Number of Records')\n",
    "\n",
    "for i, count in enumerate(result['Count']):\n",
    "    plt.text(i, count + 10, str(count), ha='center')\n",
    "\n",
    "plt.xticks(rotation=0)\n",
    "\n",
    "plt.show()"
   ]
  },
  {
   "cell_type": "code",
   "execution_count": 6,
   "id": "2c32e763",
   "metadata": {},
   "outputs": [
    {
     "name": "stdout",
     "output_type": "stream",
     "text": [
      "             Has Null  Percentage Null\n",
      "Label           False         0.000000\n",
      "Product_Url     False         0.000000\n",
      "Content          True         0.233318\n",
      "header           True         4.433038\n"
     ]
    }
   ],
   "source": [
    "null_check = df.isnull().any()\n",
    "percentage_null = (df.isnull().mean()) * 100\n",
    "result = pd.DataFrame({'Has Null': null_check, 'Percentage Null': percentage_null})\n",
    "\n",
    "print(result)"
   ]
  },
  {
   "cell_type": "code",
   "execution_count": 7,
   "id": "4899291f",
   "metadata": {},
   "outputs": [],
   "source": [
    "#Extracting the key words from the Product_Url to use it for classification\n",
    "extracted_url=[]\n",
    "for i in range(0,len(df)):\n",
    "    start_index=df['Product_Url'][i].find('/d/')\n",
    "    end_index=df['Product_Url'][i].rfind('/')\n",
    "    extracted_url.append(df['Product_Url'][i][start_index+3:end_index])"
   ]
  },
  {
   "cell_type": "code",
   "execution_count": 8,
   "id": "83032999",
   "metadata": {},
   "outputs": [],
   "source": [
    "#Replacing '-' with ' ' to enable tokenization in the later stage\n",
    "df['Extracted_URL']=extracted_url\n",
    "df.loc[:, 'Extracted_URL'] = df['Extracted_URL'].str.replace('-', ' ')"
   ]
  },
  {
   "cell_type": "code",
   "execution_count": 9,
   "id": "88f09ba8",
   "metadata": {},
   "outputs": [
    {
     "data": {
      "text/html": [
       "<div>\n",
       "<style scoped>\n",
       "    .dataframe tbody tr th:only-of-type {\n",
       "        vertical-align: middle;\n",
       "    }\n",
       "\n",
       "    .dataframe tbody tr th {\n",
       "        vertical-align: top;\n",
       "    }\n",
       "\n",
       "    .dataframe thead th {\n",
       "        text-align: right;\n",
       "    }\n",
       "</style>\n",
       "<table border=\"1\" class=\"dataframe\">\n",
       "  <thead>\n",
       "    <tr style=\"text-align: right;\">\n",
       "      <th></th>\n",
       "      <th>Label</th>\n",
       "      <th>Product_Url</th>\n",
       "      <th>Content</th>\n",
       "      <th>header</th>\n",
       "      <th>Extracted_URL</th>\n",
       "    </tr>\n",
       "  </thead>\n",
       "  <tbody>\n",
       "    <tr>\n",
       "      <th>0</th>\n",
       "      <td>Not a Computer</td>\n",
       "      <td>https://chicago.craigslist.org/nwc/sys/d/batav...</td>\n",
       "      <td>Very good shape, photo shows phone being charg...</td>\n",
       "      <td>Apple Mag Safe charger  -  $20  (Batavia)</td>\n",
       "      <td>batavia apple mag safe charger</td>\n",
       "    </tr>\n",
       "    <tr>\n",
       "      <th>1</th>\n",
       "      <td>Not a Computer</td>\n",
       "      <td>https://chicago.craigslist.org/nwc/sys/d/chica...</td>\n",
       "      <td>Ibenzer Anti Blue Light Anti Glare Screen Prot...</td>\n",
       "      <td>MacBook Pro 16 Screen Protector 2019-2020  - ...</td>\n",
       "      <td>chicago macbook pro 16 screen protector</td>\n",
       "    </tr>\n",
       "    <tr>\n",
       "      <th>2</th>\n",
       "      <td>Not a Computer</td>\n",
       "      <td>https://chicago.craigslist.org/nwc/sys/d/lisle...</td>\n",
       "      <td>2 NIB Brand New Medion Wireless Keyboard and M...</td>\n",
       "      <td>NaN</td>\n",
       "      <td>lisle nib brand new medion wireless</td>\n",
       "    </tr>\n",
       "    <tr>\n",
       "      <th>3</th>\n",
       "      <td>Not a Computer</td>\n",
       "      <td>https://chicago.craigslist.org/nwc/sys/d/naper...</td>\n",
       "      <td>New, in box and sealed, HP LaserJet wireless m...</td>\n",
       "      <td>New Sealed HP LaserJet Full Duplex Wireless L...</td>\n",
       "      <td>naperville new sealed hp laserjet full</td>\n",
       "    </tr>\n",
       "    <tr>\n",
       "      <th>4</th>\n",
       "      <td>Not a Computer</td>\n",
       "      <td>https://chicago.craigslist.org/nwc/sys/d/naper...</td>\n",
       "      <td>New and sealed in box D-Link 5-port 10/100 des...</td>\n",
       "      <td>New and Sealed D-Link 5 Port Desktop Switch  ...</td>\n",
       "      <td>naperville new and sealed link port</td>\n",
       "    </tr>\n",
       "  </tbody>\n",
       "</table>\n",
       "</div>"
      ],
      "text/plain": [
       "            Label                                        Product_Url  \\\n",
       "0  Not a Computer  https://chicago.craigslist.org/nwc/sys/d/batav...   \n",
       "1  Not a Computer  https://chicago.craigslist.org/nwc/sys/d/chica...   \n",
       "2  Not a Computer  https://chicago.craigslist.org/nwc/sys/d/lisle...   \n",
       "3  Not a Computer  https://chicago.craigslist.org/nwc/sys/d/naper...   \n",
       "4  Not a Computer  https://chicago.craigslist.org/nwc/sys/d/naper...   \n",
       "\n",
       "                                             Content  \\\n",
       "0  Very good shape, photo shows phone being charg...   \n",
       "1  Ibenzer Anti Blue Light Anti Glare Screen Prot...   \n",
       "2  2 NIB Brand New Medion Wireless Keyboard and M...   \n",
       "3  New, in box and sealed, HP LaserJet wireless m...   \n",
       "4  New and sealed in box D-Link 5-port 10/100 des...   \n",
       "\n",
       "                                              header  \\\n",
       "0        Apple Mag Safe charger  -  $20  (Batavia)     \n",
       "1   MacBook Pro 16 Screen Protector 2019-2020  - ...   \n",
       "2                                                NaN   \n",
       "3   New Sealed HP LaserJet Full Duplex Wireless L...   \n",
       "4   New and Sealed D-Link 5 Port Desktop Switch  ...   \n",
       "\n",
       "                             Extracted_URL  \n",
       "0           batavia apple mag safe charger  \n",
       "1  chicago macbook pro 16 screen protector  \n",
       "2      lisle nib brand new medion wireless  \n",
       "3   naperville new sealed hp laserjet full  \n",
       "4      naperville new and sealed link port  "
      ]
     },
     "execution_count": 9,
     "metadata": {},
     "output_type": "execute_result"
    }
   ],
   "source": [
    "df.head()"
   ]
  },
  {
   "cell_type": "code",
   "execution_count": 10,
   "id": "a776e5df",
   "metadata": {},
   "outputs": [],
   "source": [
    "from sklearn.preprocessing import LabelEncoder\n",
    "labelencoder=LabelEncoder()\n",
    "df['Flag'] = labelencoder.fit_transform(df['Label'])"
   ]
  },
  {
   "cell_type": "code",
   "execution_count": 11,
   "id": "08312e78",
   "metadata": {},
   "outputs": [
    {
     "data": {
      "text/html": [
       "<div>\n",
       "<style scoped>\n",
       "    .dataframe tbody tr th:only-of-type {\n",
       "        vertical-align: middle;\n",
       "    }\n",
       "\n",
       "    .dataframe tbody tr th {\n",
       "        vertical-align: top;\n",
       "    }\n",
       "\n",
       "    .dataframe thead th {\n",
       "        text-align: right;\n",
       "    }\n",
       "</style>\n",
       "<table border=\"1\" class=\"dataframe\">\n",
       "  <thead>\n",
       "    <tr style=\"text-align: right;\">\n",
       "      <th></th>\n",
       "      <th>Label</th>\n",
       "      <th>Product_Url</th>\n",
       "      <th>Content</th>\n",
       "      <th>header</th>\n",
       "      <th>Extracted_URL</th>\n",
       "      <th>Flag</th>\n",
       "    </tr>\n",
       "  </thead>\n",
       "  <tbody>\n",
       "    <tr>\n",
       "      <th>0</th>\n",
       "      <td>Not a Computer</td>\n",
       "      <td>https://chicago.craigslist.org/nwc/sys/d/batav...</td>\n",
       "      <td>Very good shape, photo shows phone being charg...</td>\n",
       "      <td>Apple Mag Safe charger  -  $20  (Batavia)</td>\n",
       "      <td>batavia apple mag safe charger</td>\n",
       "      <td>1</td>\n",
       "    </tr>\n",
       "    <tr>\n",
       "      <th>1</th>\n",
       "      <td>Not a Computer</td>\n",
       "      <td>https://chicago.craigslist.org/nwc/sys/d/chica...</td>\n",
       "      <td>Ibenzer Anti Blue Light Anti Glare Screen Prot...</td>\n",
       "      <td>MacBook Pro 16 Screen Protector 2019-2020  - ...</td>\n",
       "      <td>chicago macbook pro 16 screen protector</td>\n",
       "      <td>1</td>\n",
       "    </tr>\n",
       "    <tr>\n",
       "      <th>2</th>\n",
       "      <td>Not a Computer</td>\n",
       "      <td>https://chicago.craigslist.org/nwc/sys/d/lisle...</td>\n",
       "      <td>2 NIB Brand New Medion Wireless Keyboard and M...</td>\n",
       "      <td>NaN</td>\n",
       "      <td>lisle nib brand new medion wireless</td>\n",
       "      <td>1</td>\n",
       "    </tr>\n",
       "    <tr>\n",
       "      <th>3</th>\n",
       "      <td>Not a Computer</td>\n",
       "      <td>https://chicago.craigslist.org/nwc/sys/d/naper...</td>\n",
       "      <td>New, in box and sealed, HP LaserJet wireless m...</td>\n",
       "      <td>New Sealed HP LaserJet Full Duplex Wireless L...</td>\n",
       "      <td>naperville new sealed hp laserjet full</td>\n",
       "      <td>1</td>\n",
       "    </tr>\n",
       "    <tr>\n",
       "      <th>4</th>\n",
       "      <td>Not a Computer</td>\n",
       "      <td>https://chicago.craigslist.org/nwc/sys/d/naper...</td>\n",
       "      <td>New and sealed in box D-Link 5-port 10/100 des...</td>\n",
       "      <td>New and Sealed D-Link 5 Port Desktop Switch  ...</td>\n",
       "      <td>naperville new and sealed link port</td>\n",
       "      <td>1</td>\n",
       "    </tr>\n",
       "  </tbody>\n",
       "</table>\n",
       "</div>"
      ],
      "text/plain": [
       "            Label                                        Product_Url  \\\n",
       "0  Not a Computer  https://chicago.craigslist.org/nwc/sys/d/batav...   \n",
       "1  Not a Computer  https://chicago.craigslist.org/nwc/sys/d/chica...   \n",
       "2  Not a Computer  https://chicago.craigslist.org/nwc/sys/d/lisle...   \n",
       "3  Not a Computer  https://chicago.craigslist.org/nwc/sys/d/naper...   \n",
       "4  Not a Computer  https://chicago.craigslist.org/nwc/sys/d/naper...   \n",
       "\n",
       "                                             Content  \\\n",
       "0  Very good shape, photo shows phone being charg...   \n",
       "1  Ibenzer Anti Blue Light Anti Glare Screen Prot...   \n",
       "2  2 NIB Brand New Medion Wireless Keyboard and M...   \n",
       "3  New, in box and sealed, HP LaserJet wireless m...   \n",
       "4  New and sealed in box D-Link 5-port 10/100 des...   \n",
       "\n",
       "                                              header  \\\n",
       "0        Apple Mag Safe charger  -  $20  (Batavia)     \n",
       "1   MacBook Pro 16 Screen Protector 2019-2020  - ...   \n",
       "2                                                NaN   \n",
       "3   New Sealed HP LaserJet Full Duplex Wireless L...   \n",
       "4   New and Sealed D-Link 5 Port Desktop Switch  ...   \n",
       "\n",
       "                             Extracted_URL  Flag  \n",
       "0           batavia apple mag safe charger     1  \n",
       "1  chicago macbook pro 16 screen protector     1  \n",
       "2      lisle nib brand new medion wireless     1  \n",
       "3   naperville new sealed hp laserjet full     1  \n",
       "4      naperville new and sealed link port     1  "
      ]
     },
     "execution_count": 11,
     "metadata": {},
     "output_type": "execute_result"
    }
   ],
   "source": [
    "df.head()"
   ]
  },
  {
   "cell_type": "code",
   "execution_count": 12,
   "id": "f3ccd764",
   "metadata": {},
   "outputs": [
    {
     "name": "stderr",
     "output_type": "stream",
     "text": [
      "[nltk_data] Downloading package stopwords to\n",
      "[nltk_data]     /home/khande28/nltk_data...\n",
      "[nltk_data]   Package stopwords is already up-to-date!\n"
     ]
    },
    {
     "data": {
      "text/plain": [
       "True"
      ]
     },
     "execution_count": 12,
     "metadata": {},
     "output_type": "execute_result"
    }
   ],
   "source": [
    "nltk.download('stopwords')"
   ]
  },
  {
   "cell_type": "code",
   "execution_count": 13,
   "id": "7b3f01dd",
   "metadata": {},
   "outputs": [],
   "source": [
    "# Tokenize the collection\n",
    "token_list = []\n",
    "for i in df['Extracted_URL']:\n",
    "    # Handle missing values\n",
    "    if pd.notnull(i):\n",
    "        token_list.append(nltk.word_tokenize(i))\n",
    "\n",
    "# Lemmatize the words\n",
    "lammetize_list = []\n",
    "for i in token_list:\n",
    "    lemmatizer = nltk.stem.WordNetLemmatizer()\n",
    "    lemmatized_token = [lemmatizer.lemmatize(token) for token in i]\n",
    "    lammetize_list.append(lemmatized_token)\n",
    "\n",
    "# Remove stop words\n",
    "stop_list = []\n",
    "for i in lammetize_list:\n",
    "    stop_words_removed = [token for token in i if not token in stopwords.words('english') if token.isalnum() and token.lower() != 'nan']\n",
    "    stop_list.append(stop_words_removed)"
   ]
  },
  {
   "cell_type": "code",
   "execution_count": 14,
   "id": "84d10c18",
   "metadata": {},
   "outputs": [],
   "source": [
    "#Defining a function to again add the token back into a sentence\n",
    "def convert_to_string(a): \n",
    "    \n",
    "    # initialize an empty string\n",
    "    first_string = \"\" \n",
    "    \n",
    "    # traverse in the string  \n",
    "    for element in a: \n",
    "        first_string = first_string+\" \"+element  \n",
    "    \n",
    "    # return string  \n",
    "    return first_string "
   ]
  },
  {
   "cell_type": "code",
   "execution_count": 15,
   "id": "c47fb14d",
   "metadata": {},
   "outputs": [],
   "source": [
    "final_list=[]\n",
    "for i in stop_list:\n",
    "    sen_list=convert_to_string(i)\n",
    "    final_list.append(sen_list)"
   ]
  },
  {
   "cell_type": "code",
   "execution_count": 16,
   "id": "17a5b700",
   "metadata": {},
   "outputs": [
    {
     "data": {
      "text/html": [
       "<div>\n",
       "<style scoped>\n",
       "    .dataframe tbody tr th:only-of-type {\n",
       "        vertical-align: middle;\n",
       "    }\n",
       "\n",
       "    .dataframe tbody tr th {\n",
       "        vertical-align: top;\n",
       "    }\n",
       "\n",
       "    .dataframe thead th {\n",
       "        text-align: right;\n",
       "    }\n",
       "</style>\n",
       "<table border=\"1\" class=\"dataframe\">\n",
       "  <thead>\n",
       "    <tr style=\"text-align: right;\">\n",
       "      <th></th>\n",
       "      <th>Cleaned_URL</th>\n",
       "    </tr>\n",
       "  </thead>\n",
       "  <tbody>\n",
       "    <tr>\n",
       "      <th>0</th>\n",
       "      <td>batavia apple mag safe charger</td>\n",
       "    </tr>\n",
       "    <tr>\n",
       "      <th>1</th>\n",
       "      <td>chicago macbook pro 16 screen protector</td>\n",
       "    </tr>\n",
       "    <tr>\n",
       "      <th>2</th>\n",
       "      <td>lisle nib brand new medion wireless</td>\n",
       "    </tr>\n",
       "    <tr>\n",
       "      <th>3</th>\n",
       "      <td>naperville new sealed hp laserjet full</td>\n",
       "    </tr>\n",
       "    <tr>\n",
       "      <th>4</th>\n",
       "      <td>naperville new sealed link port</td>\n",
       "    </tr>\n",
       "    <tr>\n",
       "      <th>...</th>\n",
       "      <td>...</td>\n",
       "    </tr>\n",
       "    <tr>\n",
       "      <th>2138</th>\n",
       "      <td>oakland compatible hp laserjet</td>\n",
       "    </tr>\n",
       "    <tr>\n",
       "      <th>2139</th>\n",
       "      <td>alameda vizio 26 computer monitor</td>\n",
       "    </tr>\n",
       "    <tr>\n",
       "      <th>2140</th>\n",
       "      <td>cupertino macbook pro 16 inch loaded m1</td>\n",
       "    </tr>\n",
       "    <tr>\n",
       "      <th>2141</th>\n",
       "      <td>fremont 2019 macbook pro 16 inch gb ssd</td>\n",
       "    </tr>\n",
       "    <tr>\n",
       "      <th>2142</th>\n",
       "      <td>palo alto 12 bay sun microsystems</td>\n",
       "    </tr>\n",
       "  </tbody>\n",
       "</table>\n",
       "<p>2143 rows × 1 columns</p>\n",
       "</div>"
      ],
      "text/plain": [
       "                                   Cleaned_URL\n",
       "0               batavia apple mag safe charger\n",
       "1      chicago macbook pro 16 screen protector\n",
       "2          lisle nib brand new medion wireless\n",
       "3       naperville new sealed hp laserjet full\n",
       "4              naperville new sealed link port\n",
       "...                                        ...\n",
       "2138            oakland compatible hp laserjet\n",
       "2139         alameda vizio 26 computer monitor\n",
       "2140   cupertino macbook pro 16 inch loaded m1\n",
       "2141   fremont 2019 macbook pro 16 inch gb ssd\n",
       "2142         palo alto 12 bay sun microsystems\n",
       "\n",
       "[2143 rows x 1 columns]"
      ]
     },
     "execution_count": 16,
     "metadata": {},
     "output_type": "execute_result"
    }
   ],
   "source": [
    "df2=pd.DataFrame(final_list,columns=['Cleaned_URL'])\n",
    "df2"
   ]
  },
  {
   "cell_type": "code",
   "execution_count": 17,
   "id": "2f4d9132",
   "metadata": {},
   "outputs": [
    {
     "data": {
      "text/html": [
       "<div>\n",
       "<style scoped>\n",
       "    .dataframe tbody tr th:only-of-type {\n",
       "        vertical-align: middle;\n",
       "    }\n",
       "\n",
       "    .dataframe tbody tr th {\n",
       "        vertical-align: top;\n",
       "    }\n",
       "\n",
       "    .dataframe thead th {\n",
       "        text-align: right;\n",
       "    }\n",
       "</style>\n",
       "<table border=\"1\" class=\"dataframe\">\n",
       "  <thead>\n",
       "    <tr style=\"text-align: right;\">\n",
       "      <th></th>\n",
       "      <th>Label</th>\n",
       "      <th>Product_Url</th>\n",
       "      <th>Content</th>\n",
       "      <th>header</th>\n",
       "      <th>Extracted_URL</th>\n",
       "      <th>Flag</th>\n",
       "      <th>Cleaned_URL</th>\n",
       "    </tr>\n",
       "  </thead>\n",
       "  <tbody>\n",
       "    <tr>\n",
       "      <th>0</th>\n",
       "      <td>Not a Computer</td>\n",
       "      <td>https://chicago.craigslist.org/nwc/sys/d/batav...</td>\n",
       "      <td>Very good shape, photo shows phone being charg...</td>\n",
       "      <td>Apple Mag Safe charger  -  $20  (Batavia)</td>\n",
       "      <td>batavia apple mag safe charger</td>\n",
       "      <td>1</td>\n",
       "      <td>batavia apple mag safe charger</td>\n",
       "    </tr>\n",
       "    <tr>\n",
       "      <th>1</th>\n",
       "      <td>Not a Computer</td>\n",
       "      <td>https://chicago.craigslist.org/nwc/sys/d/chica...</td>\n",
       "      <td>Ibenzer Anti Blue Light Anti Glare Screen Prot...</td>\n",
       "      <td>MacBook Pro 16 Screen Protector 2019-2020  - ...</td>\n",
       "      <td>chicago macbook pro 16 screen protector</td>\n",
       "      <td>1</td>\n",
       "      <td>chicago macbook pro 16 screen protector</td>\n",
       "    </tr>\n",
       "    <tr>\n",
       "      <th>2</th>\n",
       "      <td>Not a Computer</td>\n",
       "      <td>https://chicago.craigslist.org/nwc/sys/d/lisle...</td>\n",
       "      <td>2 NIB Brand New Medion Wireless Keyboard and M...</td>\n",
       "      <td>NaN</td>\n",
       "      <td>lisle nib brand new medion wireless</td>\n",
       "      <td>1</td>\n",
       "      <td>lisle nib brand new medion wireless</td>\n",
       "    </tr>\n",
       "    <tr>\n",
       "      <th>3</th>\n",
       "      <td>Not a Computer</td>\n",
       "      <td>https://chicago.craigslist.org/nwc/sys/d/naper...</td>\n",
       "      <td>New, in box and sealed, HP LaserJet wireless m...</td>\n",
       "      <td>New Sealed HP LaserJet Full Duplex Wireless L...</td>\n",
       "      <td>naperville new sealed hp laserjet full</td>\n",
       "      <td>1</td>\n",
       "      <td>naperville new sealed hp laserjet full</td>\n",
       "    </tr>\n",
       "    <tr>\n",
       "      <th>4</th>\n",
       "      <td>Not a Computer</td>\n",
       "      <td>https://chicago.craigslist.org/nwc/sys/d/naper...</td>\n",
       "      <td>New and sealed in box D-Link 5-port 10/100 des...</td>\n",
       "      <td>New and Sealed D-Link 5 Port Desktop Switch  ...</td>\n",
       "      <td>naperville new and sealed link port</td>\n",
       "      <td>1</td>\n",
       "      <td>naperville new sealed link port</td>\n",
       "    </tr>\n",
       "  </tbody>\n",
       "</table>\n",
       "</div>"
      ],
      "text/plain": [
       "            Label                                        Product_Url  \\\n",
       "0  Not a Computer  https://chicago.craigslist.org/nwc/sys/d/batav...   \n",
       "1  Not a Computer  https://chicago.craigslist.org/nwc/sys/d/chica...   \n",
       "2  Not a Computer  https://chicago.craigslist.org/nwc/sys/d/lisle...   \n",
       "3  Not a Computer  https://chicago.craigslist.org/nwc/sys/d/naper...   \n",
       "4  Not a Computer  https://chicago.craigslist.org/nwc/sys/d/naper...   \n",
       "\n",
       "                                             Content  \\\n",
       "0  Very good shape, photo shows phone being charg...   \n",
       "1  Ibenzer Anti Blue Light Anti Glare Screen Prot...   \n",
       "2  2 NIB Brand New Medion Wireless Keyboard and M...   \n",
       "3  New, in box and sealed, HP LaserJet wireless m...   \n",
       "4  New and sealed in box D-Link 5-port 10/100 des...   \n",
       "\n",
       "                                              header  \\\n",
       "0        Apple Mag Safe charger  -  $20  (Batavia)     \n",
       "1   MacBook Pro 16 Screen Protector 2019-2020  - ...   \n",
       "2                                                NaN   \n",
       "3   New Sealed HP LaserJet Full Duplex Wireless L...   \n",
       "4   New and Sealed D-Link 5 Port Desktop Switch  ...   \n",
       "\n",
       "                             Extracted_URL  Flag  \\\n",
       "0           batavia apple mag safe charger     1   \n",
       "1  chicago macbook pro 16 screen protector     1   \n",
       "2      lisle nib brand new medion wireless     1   \n",
       "3   naperville new sealed hp laserjet full     1   \n",
       "4      naperville new and sealed link port     1   \n",
       "\n",
       "                                Cleaned_URL  \n",
       "0            batavia apple mag safe charger  \n",
       "1   chicago macbook pro 16 screen protector  \n",
       "2       lisle nib brand new medion wireless  \n",
       "3    naperville new sealed hp laserjet full  \n",
       "4           naperville new sealed link port  "
      ]
     },
     "execution_count": 17,
     "metadata": {},
     "output_type": "execute_result"
    }
   ],
   "source": [
    "#Creating the final Dataframe\n",
    "final=pd.merge(df,df2,left_index=True,right_index=True)\n",
    "final.head()"
   ]
  },
  {
   "cell_type": "markdown",
   "id": "77a89e73",
   "metadata": {},
   "source": [
    "## Models"
   ]
  },
  {
   "cell_type": "code",
   "execution_count": 18,
   "id": "878d2278",
   "metadata": {},
   "outputs": [],
   "source": [
    "X_train, X_test, Y_train, Y_test = train_test_split(final['Cleaned_URL'], final['Flag'], test_size=0.3, random_state=183, shuffle=True)"
   ]
  },
  {
   "cell_type": "code",
   "execution_count": 19,
   "id": "a57ac5fa",
   "metadata": {},
   "outputs": [],
   "source": [
    "vectorizer=TfidfVectorizer(min_df=1,ngram_range=(1,2))\n",
    "v1=vectorizer.fit(X_train)\n",
    "\n",
    "X_train_transformed=vectorizer.transform(X_train)\n",
    "X_test_transformed=vectorizer.transform(X_test)"
   ]
  },
  {
   "cell_type": "code",
   "execution_count": 20,
   "id": "8b2da9b0",
   "metadata": {},
   "outputs": [
    {
     "data": {
      "text/plain": [
       "(1500, 5824)"
      ]
     },
     "execution_count": 20,
     "metadata": {},
     "output_type": "execute_result"
    }
   ],
   "source": [
    "X_train_transformed.shape"
   ]
  },
  {
   "cell_type": "code",
   "execution_count": 21,
   "id": "22e0402d",
   "metadata": {},
   "outputs": [
    {
     "data": {
      "text/plain": [
       "(643, 5824)"
      ]
     },
     "execution_count": 21,
     "metadata": {},
     "output_type": "execute_result"
    }
   ],
   "source": [
    "X_test_transformed.shape"
   ]
  },
  {
   "cell_type": "code",
   "execution_count": 22,
   "id": "e2b6c5f4",
   "metadata": {},
   "outputs": [
    {
     "data": {
      "text/plain": [
       "941                   romeoville netgear cm1000\n",
       "570       chicago apple macbook laptop Computer\n",
       "1945      pleasanton apple macbook air ghz core\n",
       "1162      mac mini 2014 i5 4278u 26ghz 8gb iris\n",
       "590      chicago netgear wndr4500 n900 wireless\n",
       "Name: Cleaned_URL, dtype: object"
      ]
     },
     "execution_count": 22,
     "metadata": {},
     "output_type": "execute_result"
    }
   ],
   "source": [
    "X_train.head()"
   ]
  },
  {
   "cell_type": "code",
   "execution_count": 23,
   "id": "84e75272",
   "metadata": {},
   "outputs": [
    {
     "data": {
      "text/plain": [
       "1129            gilroy pfsense router firewall\n",
       "388             villa park 2020 macbook air 13\n",
       "367         melrose park microsoft surface pro\n",
       "135                   chicago mac mini m2 2023\n",
       "26       schaumburg i7 dell precision 5720 aio\n",
       "Name: Cleaned_URL, dtype: object"
      ]
     },
     "execution_count": 23,
     "metadata": {},
     "output_type": "execute_result"
    }
   ],
   "source": [
    "X_test.head()"
   ]
  },
  {
   "cell_type": "markdown",
   "id": "4e178b84",
   "metadata": {},
   "source": [
    "## 1. Logistic Regression"
   ]
  },
  {
   "cell_type": "code",
   "execution_count": 24,
   "id": "431105e8",
   "metadata": {
    "scrolled": true
   },
   "outputs": [
    {
     "name": "stdout",
     "output_type": "stream",
     "text": [
      "Best parameters: {'C': 10, 'penalty': 'l2'}\n",
      "Accuracy of Logit model with best parameters: 86.1586%\n",
      "[0.10924739 0.89075261]\n"
     ]
    }
   ],
   "source": [
    "Logit_model = LogisticRegression()\n",
    "param_grid = {\n",
    "    'penalty': ['l2'],\n",
    "    'C': [0.001, 0.01, 0.1, 1, 10, 100]\n",
    "}\n",
    "\n",
    "# Perform grid search with cross-validation\n",
    "grid_search = GridSearchCV(estimator=Logit_model, param_grid=param_grid, cv=5, scoring='accuracy')\n",
    "grid_search.fit(X_train_transformed, Y_train)\n",
    "\n",
    "# Get the best parameters\n",
    "best_params = grid_search.best_params_\n",
    "print(\"Best parameters:\", best_params)\n",
    "\n",
    "# Train the model with the best parameters\n",
    "Logit_model_best = LogisticRegression(**best_params)\n",
    "Logit_model_best.fit(X_train_transformed, Y_train)\n",
    "\n",
    "y_pred_logit_best = Logit_model_best.predict(X_test_transformed)\n",
    "accuracy_logit_best = accuracy_score(Y_test, y_pred_logit_best)\n",
    "print(\"Accuracy of Logit model with best parameters: {:.4f}%\".format(accuracy_logit_best * 100))\n",
    "\n",
    "y_pred_prob_logit_best = Logit_model_best.predict_proba(X_test_transformed)\n",
    "print(y_pred_prob_logit_best[0])"
   ]
  },
  {
   "cell_type": "markdown",
   "id": "ea6efffc",
   "metadata": {},
   "source": [
    "## 2. Naive Bayes"
   ]
  },
  {
   "cell_type": "code",
   "execution_count": 25,
   "id": "79f59d25",
   "metadata": {},
   "outputs": [
    {
     "name": "stdout",
     "output_type": "stream",
     "text": [
      "Best alpha value: 0.1\n",
      "Accuracy of Naive Bayes model with best alpha: 86.3142%\n",
      "              precision    recall  f1-score   support\n",
      "\n",
      "           0       0.92      0.86      0.89       418\n",
      "           1       0.77      0.87      0.82       225\n",
      "\n",
      "    accuracy                           0.86       643\n",
      "   macro avg       0.85      0.86      0.85       643\n",
      "weighted avg       0.87      0.86      0.86       643\n",
      "\n",
      "[[360  58]\n",
      " [ 30 195]]\n"
     ]
    }
   ],
   "source": [
    "# Define the model\n",
    "NB_model = MultinomialNB()\n",
    "\n",
    "# Define the parameter grid\n",
    "param_grid = {'alpha': [0.1, 0.5, 1.0, 2.0, 5.0, 10.0]}\n",
    "\n",
    "# Perform grid search\n",
    "grid_search = GridSearchCV(NB_model, param_grid, cv=5, scoring='accuracy')\n",
    "grid_search.fit(X_train_transformed, Y_train)\n",
    "\n",
    "# Get the best parameter\n",
    "best_alpha = grid_search.best_params_['alpha']\n",
    "print(\"Best alpha value:\", best_alpha)\n",
    "\n",
    "# Train the model with the best alpha\n",
    "NB_model_best = MultinomialNB(alpha=best_alpha)\n",
    "NB_model_best.fit(X_train_transformed, Y_train)\n",
    "\n",
    "# Evaluation\n",
    "y_pred_NB_best = NB_model_best.predict(X_test_transformed)\n",
    "accuracy_NB_best = accuracy_score(Y_test, y_pred_NB_best)\n",
    "print(\"Accuracy of Naive Bayes model with best alpha: {:.4f}%\".format(accuracy_NB_best * 100))\n",
    "\n",
    "print(classification_report(y_pred_NB_best,Y_test))\n",
    "print(confusion_matrix(y_pred_NB_best,Y_test))"
   ]
  },
  {
   "cell_type": "markdown",
   "id": "ec889548",
   "metadata": {},
   "source": [
    "## 3. XGBoost"
   ]
  },
  {
   "cell_type": "code",
   "execution_count": 26,
   "id": "97961839",
   "metadata": {},
   "outputs": [
    {
     "name": "stdout",
     "output_type": "stream",
     "text": [
      "Best parameters: {'learning_rate': 0.1, 'max_depth': 5, 'n_estimators': 200, 'subsample': 0.8}\n",
      "Accuracy of XGBoost Classifier Model with best parameters: 83.5148%\n"
     ]
    }
   ],
   "source": [
    "xgboost_model = XGBClassifier(random_state=0)\n",
    "param_grid = {\n",
    "    'learning_rate': [0.1, 0.01],\n",
    "    'n_estimators': [100, 200, 300],\n",
    "    'max_depth': [3, 5, 7],\n",
    "    'subsample': [0.8, 0.9],\n",
    "}\n",
    "\n",
    "# Perform grid search\n",
    "grid_search = GridSearchCV(xgboost_model, param_grid, cv=5, scoring='accuracy')\n",
    "grid_search.fit(X_train_transformed, Y_train)\n",
    "\n",
    "# Get the best parameters\n",
    "best_params = grid_search.best_params_\n",
    "print(\"Best parameters:\", best_params)\n",
    "\n",
    "# Train the model with the best parameters\n",
    "xgboost_model_best = XGBClassifier(**best_params, random_state=0)\n",
    "xgboost_model_best.fit(X_train_transformed, Y_train)\n",
    "\n",
    "# Evaluation\n",
    "y_pred_xgboost_best = xgboost_model_best.predict(X_test_transformed)\n",
    "accuracy_xgboost_best = accuracy_score(Y_test, y_pred_xgboost_best)\n",
    "print(\"Accuracy of XGBoost Classifier Model with best parameters: {:.4f}%\".format(accuracy_xgboost_best * 100))"
   ]
  },
  {
   "cell_type": "markdown",
   "id": "9c357e59",
   "metadata": {},
   "source": [
    "## 4. ANN"
   ]
  },
  {
   "cell_type": "code",
   "execution_count": 27,
   "id": "f18203db",
   "metadata": {},
   "outputs": [
    {
     "name": "stdout",
     "output_type": "stream",
     "text": [
      "Accuracy of Deep Learning model: 86.1586%\n"
     ]
    }
   ],
   "source": [
    "# Split your data into a training and a validation set\n",
    "X_train_sub, X_val, Y_train_sub, Y_val = train_test_split(X_train_transformed, Y_train, test_size=0.2, random_state=42)\n",
    "\n",
    "# Create the MLPClassifier with early stopping\n",
    "DeepLearning_model = MLPClassifier(\n",
    "    solver='adam', \n",
    "    hidden_layer_sizes=(150, 100, 50),  # Example: Three hidden layers\n",
    "    activation='relu', \n",
    "    random_state=42,\n",
    "    early_stopping=True, \n",
    "    validation_fraction=0.1,  # Fraction of training data to use as validation\n",
    "    n_iter_no_change=10       # Stop training if validation score is not improving for 10 consecutive epochs\n",
    ")\n",
    "\n",
    "# Training\n",
    "DeepLearning_model.fit(X_train_transformed, Y_train)\n",
    "\n",
    "# Evaluation on the validation set\n",
    "y_pred_val = DeepLearning_model.predict(X_test_transformed)\n",
    "accuracy_dl_best = accuracy_score(Y_test, y_pred_val)\n",
    "print(\"Accuracy of Deep Learning model: {:.4f}%\".format(accuracy_dl_best * 100))\n"
   ]
  },
  {
   "cell_type": "markdown",
   "id": "a3b96a0c",
   "metadata": {},
   "source": [
    "## 5. Decision Tree"
   ]
  },
  {
   "cell_type": "code",
   "execution_count": 28,
   "id": "cd94cdc5",
   "metadata": {},
   "outputs": [
    {
     "name": "stdout",
     "output_type": "stream",
     "text": [
      "Decision Tree Model Accuracy: 80.0933%\n",
      "[0.26582278 0.73417722]\n"
     ]
    }
   ],
   "source": [
    "DecisionTree_model = DecisionTreeClassifier(min_samples_leaf=15,random_state=0) ## number of trees and number of layers/depth\n",
    "\n",
    "#training\n",
    "DecisionTree_model.fit(X_train_transformed, Y_train)\n",
    "y_pred_DecisionTree = DecisionTree_model.predict(X_test_transformed)\n",
    "\n",
    "#evaluation\n",
    "accuracy_dt_best = accuracy_score(Y_test, y_pred_DecisionTree)\n",
    "print(\"Decision Tree Model Accuracy: {:.4f}%\".format(accuracy_dt_best*100))\n",
    "\n",
    "y_pred_prob_dt_model = DecisionTree_model.predict_proba(X_test_transformed)\n",
    "print(y_pred_prob_dt_model[0])"
   ]
  },
  {
   "cell_type": "markdown",
   "id": "ef258c89",
   "metadata": {},
   "source": [
    "# 6. Random Forest"
   ]
  },
  {
   "cell_type": "code",
   "execution_count": 29,
   "id": "507f073d",
   "metadata": {
    "scrolled": true
   },
   "outputs": [
    {
     "name": "stderr",
     "output_type": "stream",
     "text": [
      "[I 2024-01-26 22:50:54,849] A new study created in memory with name: no-name-b8bc99af-b5c6-4a47-b2e3-acf787384f3d\n",
      "[I 2024-01-26 22:50:55,263] Trial 0 finished with value: 0.7744945567651633 and parameters: {'n_estimators': 158, 'max_depth': 16, 'bootstrap': True}. Best is trial 0 with value: 0.7744945567651633.\n",
      "[I 2024-01-26 22:50:56,326] Trial 1 finished with value: 0.8087091757387247 and parameters: {'n_estimators': 458, 'max_depth': 21, 'bootstrap': True}. Best is trial 1 with value: 0.8087091757387247.\n",
      "[I 2024-01-26 22:50:56,756] Trial 2 finished with value: 0.7262830482115086 and parameters: {'n_estimators': 248, 'max_depth': 11, 'bootstrap': False}. Best is trial 1 with value: 0.8087091757387247.\n",
      "[I 2024-01-26 22:50:57,603] Trial 3 finished with value: 0.7573872472783826 and parameters: {'n_estimators': 380, 'max_depth': 13, 'bootstrap': True}. Best is trial 1 with value: 0.8087091757387247.\n",
      "[I 2024-01-26 22:50:58,187] Trial 4 finished with value: 0.7387247278382582 and parameters: {'n_estimators': 333, 'max_depth': 12, 'bootstrap': False}. Best is trial 1 with value: 0.8087091757387247.\n",
      "[I 2024-01-26 22:50:59,001] Trial 5 finished with value: 0.7573872472783826 and parameters: {'n_estimators': 382, 'max_depth': 13, 'bootstrap': True}. Best is trial 1 with value: 0.8087091757387247.\n",
      "[I 2024-01-26 22:50:59,331] Trial 6 finished with value: 0.7931570762052877 and parameters: {'n_estimators': 137, 'max_depth': 19, 'bootstrap': True}. Best is trial 1 with value: 0.8087091757387247.\n",
      "[I 2024-01-26 22:51:00,309] Trial 7 finished with value: 0.7325038880248833 and parameters: {'n_estimators': 454, 'max_depth': 12, 'bootstrap': True}. Best is trial 1 with value: 0.8087091757387247.\n",
      "[I 2024-01-26 22:51:00,960] Trial 8 finished with value: 0.7076205287713841 and parameters: {'n_estimators': 382, 'max_depth': 10, 'bootstrap': False}. Best is trial 1 with value: 0.8087091757387247.\n",
      "[I 2024-01-26 22:51:01,844] Trial 9 finished with value: 0.807153965785381 and parameters: {'n_estimators': 460, 'max_depth': 20, 'bootstrap': False}. Best is trial 1 with value: 0.8087091757387247.\n",
      "[I 2024-01-26 22:51:03,017] Trial 10 finished with value: 0.8273716951788491 and parameters: {'n_estimators': 493, 'max_depth': 29, 'bootstrap': True}. Best is trial 10 with value: 0.8273716951788491.\n",
      "[I 2024-01-26 22:51:04,172] Trial 11 finished with value: 0.8258164852255054 and parameters: {'n_estimators': 495, 'max_depth': 29, 'bootstrap': True}. Best is trial 10 with value: 0.8273716951788491.\n",
      "[I 2024-01-26 22:51:05,350] Trial 12 finished with value: 0.8258164852255054 and parameters: {'n_estimators': 500, 'max_depth': 30, 'bootstrap': True}. Best is trial 10 with value: 0.8273716951788491.\n",
      "[I 2024-01-26 22:51:05,931] Trial 13 finished with value: 0.8195956454121306 and parameters: {'n_estimators': 236, 'max_depth': 30, 'bootstrap': True}. Best is trial 10 with value: 0.8273716951788491.\n",
      "[I 2024-01-26 22:51:07,075] Trial 14 finished with value: 0.8149300155520995 and parameters: {'n_estimators': 493, 'max_depth': 26, 'bootstrap': True}. Best is trial 10 with value: 0.8273716951788491.\n",
      "[I 2024-01-26 22:51:08,058] Trial 15 finished with value: 0.8118195956454122 and parameters: {'n_estimators': 409, 'max_depth': 25, 'bootstrap': True}. Best is trial 10 with value: 0.8273716951788491.\n",
      "[I 2024-01-26 22:51:08,786] Trial 16 finished with value: 0.8164852255054432 and parameters: {'n_estimators': 308, 'max_depth': 26, 'bootstrap': True}. Best is trial 10 with value: 0.8273716951788491.\n",
      "[I 2024-01-26 22:51:09,783] Trial 17 finished with value: 0.8258164852255054 and parameters: {'n_estimators': 423, 'max_depth': 28, 'bootstrap': True}. Best is trial 10 with value: 0.8273716951788491.\n",
      "[I 2024-01-26 22:51:10,325] Trial 18 finished with value: 0.8273716951788491 and parameters: {'n_estimators': 260, 'max_depth': 23, 'bootstrap': False}. Best is trial 10 with value: 0.8273716951788491.\n",
      "[I 2024-01-26 22:51:10,814] Trial 19 finished with value: 0.8258164852255054 and parameters: {'n_estimators': 234, 'max_depth': 23, 'bootstrap': False}. Best is trial 10 with value: 0.8273716951788491.\n",
      "[I 2024-01-26 22:51:11,193] Trial 20 finished with value: 0.8273716951788491 and parameters: {'n_estimators': 173, 'max_depth': 23, 'bootstrap': False}. Best is trial 10 with value: 0.8273716951788491.\n",
      "[I 2024-01-26 22:51:11,591] Trial 21 finished with value: 0.8304821150855366 and parameters: {'n_estimators': 185, 'max_depth': 23, 'bootstrap': False}. Best is trial 21 with value: 0.8304821150855366.\n",
      "[I 2024-01-26 22:51:11,968] Trial 22 finished with value: 0.7916018662519441 and parameters: {'n_estimators': 196, 'max_depth': 17, 'bootstrap': False}. Best is trial 21 with value: 0.8304821150855366.\n",
      "[I 2024-01-26 22:51:12,534] Trial 23 finished with value: 0.8273716951788491 and parameters: {'n_estimators': 269, 'max_depth': 23, 'bootstrap': False}. Best is trial 21 with value: 0.8304821150855366.\n",
      "[I 2024-01-26 22:51:12,991] Trial 24 finished with value: 0.8320373250388803 and parameters: {'n_estimators': 204, 'max_depth': 27, 'bootstrap': False}. Best is trial 24 with value: 0.8320373250388803.\n",
      "[I 2024-01-26 22:51:13,247] Trial 25 finished with value: 0.8304821150855366 and parameters: {'n_estimators': 102, 'max_depth': 27, 'bootstrap': False}. Best is trial 24 with value: 0.8320373250388803.\n",
      "[I 2024-01-26 22:51:13,493] Trial 26 finished with value: 0.833592534992224 and parameters: {'n_estimators': 103, 'max_depth': 27, 'bootstrap': False}. Best is trial 26 with value: 0.833592534992224.\n",
      "[I 2024-01-26 22:51:13,744] Trial 27 finished with value: 0.8258164852255054 and parameters: {'n_estimators': 107, 'max_depth': 24, 'bootstrap': False}. Best is trial 26 with value: 0.833592534992224.\n",
      "[I 2024-01-26 22:51:14,204] Trial 28 finished with value: 0.8320373250388803 and parameters: {'n_estimators': 206, 'max_depth': 27, 'bootstrap': False}. Best is trial 26 with value: 0.833592534992224.\n",
      "[I 2024-01-26 22:51:14,560] Trial 29 finished with value: 0.8304821150855366 and parameters: {'n_estimators': 137, 'max_depth': 27, 'bootstrap': False}. Best is trial 26 with value: 0.833592534992224.\n",
      "[I 2024-01-26 22:51:15,002] Trial 30 finished with value: 0.8320373250388803 and parameters: {'n_estimators': 205, 'max_depth': 25, 'bootstrap': False}. Best is trial 26 with value: 0.833592534992224.\n",
      "[I 2024-01-26 22:51:15,482] Trial 31 finished with value: 0.8320373250388803 and parameters: {'n_estimators': 208, 'max_depth': 25, 'bootstrap': False}. Best is trial 26 with value: 0.833592534992224.\n",
      "[I 2024-01-26 22:51:15,870] Trial 32 finished with value: 0.8289269051321928 and parameters: {'n_estimators': 157, 'max_depth': 28, 'bootstrap': False}. Best is trial 26 with value: 0.833592534992224.\n",
      "[I 2024-01-26 22:51:16,301] Trial 33 finished with value: 0.8180404354587869 and parameters: {'n_estimators': 220, 'max_depth': 21, 'bootstrap': False}. Best is trial 26 with value: 0.833592534992224.\n",
      "[I 2024-01-26 22:51:16,991] Trial 34 finished with value: 0.8273716951788491 and parameters: {'n_estimators': 287, 'max_depth': 27, 'bootstrap': False}. Best is trial 26 with value: 0.833592534992224.\n",
      "[I 2024-01-26 22:51:17,333] Trial 35 finished with value: 0.8304821150855366 and parameters: {'n_estimators': 152, 'max_depth': 25, 'bootstrap': False}. Best is trial 26 with value: 0.833592534992224.\n",
      "[I 2024-01-26 22:51:17,650] Trial 36 finished with value: 0.8258164852255054 and parameters: {'n_estimators': 127, 'max_depth': 28, 'bootstrap': False}. Best is trial 26 with value: 0.833592534992224.\n",
      "[I 2024-01-26 22:51:18,357] Trial 37 finished with value: 0.8304821150855366 and parameters: {'n_estimators': 310, 'max_depth': 26, 'bootstrap': False}. Best is trial 26 with value: 0.833592534992224.\n",
      "[I 2024-01-26 22:51:19,036] Trial 38 finished with value: 0.8164852255054432 and parameters: {'n_estimators': 338, 'max_depth': 21, 'bootstrap': False}. Best is trial 26 with value: 0.833592534992224.\n",
      "[I 2024-01-26 22:51:19,372] Trial 39 finished with value: 0.7744945567651633 and parameters: {'n_estimators': 177, 'max_depth': 15, 'bootstrap': False}. Best is trial 26 with value: 0.833592534992224.\n",
      "[I 2024-01-26 22:51:19,891] Trial 40 finished with value: 0.8320373250388803 and parameters: {'n_estimators': 212, 'max_depth': 29, 'bootstrap': False}. Best is trial 26 with value: 0.833592534992224.\n",
      "[I 2024-01-26 22:51:20,368] Trial 41 finished with value: 0.833592534992224 and parameters: {'n_estimators': 207, 'max_depth': 25, 'bootstrap': False}. Best is trial 26 with value: 0.833592534992224.\n",
      "[I 2024-01-26 22:51:20,902] Trial 42 finished with value: 0.8289269051321928 and parameters: {'n_estimators': 245, 'max_depth': 24, 'bootstrap': False}. Best is trial 26 with value: 0.833592534992224.\n",
      "[I 2024-01-26 22:51:21,535] Trial 43 finished with value: 0.8258164852255054 and parameters: {'n_estimators': 276, 'max_depth': 27, 'bootstrap': False}. Best is trial 26 with value: 0.833592534992224.\n",
      "[I 2024-01-26 22:51:21,981] Trial 44 finished with value: 0.8320373250388803 and parameters: {'n_estimators': 197, 'max_depth': 25, 'bootstrap': False}. Best is trial 26 with value: 0.833592534992224.\n",
      "[I 2024-01-26 22:51:22,579] Trial 45 finished with value: 0.8351477449455676 and parameters: {'n_estimators': 226, 'max_depth': 29, 'bootstrap': False}. Best is trial 45 with value: 0.8351477449455676.\n",
      "[I 2024-01-26 22:51:23,423] Trial 46 finished with value: 0.8320373250388803 and parameters: {'n_estimators': 333, 'max_depth': 30, 'bootstrap': False}. Best is trial 45 with value: 0.8351477449455676.\n",
      "[I 2024-01-26 22:51:23,981] Trial 47 finished with value: 0.8351477449455676 and parameters: {'n_estimators': 226, 'max_depth': 29, 'bootstrap': False}. Best is trial 45 with value: 0.8351477449455676.\n",
      "[I 2024-01-26 22:51:24,504] Trial 48 finished with value: 0.833592534992224 and parameters: {'n_estimators': 225, 'max_depth': 29, 'bootstrap': False}. Best is trial 45 with value: 0.8351477449455676.\n",
      "[I 2024-01-26 22:51:25,113] Trial 49 finished with value: 0.8242612752721618 and parameters: {'n_estimators': 252, 'max_depth': 29, 'bootstrap': False}. Best is trial 45 with value: 0.8351477449455676.\n",
      "[I 2024-01-26 22:51:25,814] Trial 50 finished with value: 0.8304821150855366 and parameters: {'n_estimators': 289, 'max_depth': 30, 'bootstrap': False}. Best is trial 45 with value: 0.8351477449455676.\n",
      "[I 2024-01-26 22:51:26,381] Trial 51 finished with value: 0.833592534992224 and parameters: {'n_estimators': 234, 'max_depth': 28, 'bootstrap': False}. Best is trial 45 with value: 0.8351477449455676.\n",
      "[I 2024-01-26 22:51:26,926] Trial 52 finished with value: 0.833592534992224 and parameters: {'n_estimators': 232, 'max_depth': 28, 'bootstrap': False}. Best is trial 45 with value: 0.8351477449455676.\n",
      "[I 2024-01-26 22:51:27,372] Trial 53 finished with value: 0.8258164852255054 and parameters: {'n_estimators': 170, 'max_depth': 29, 'bootstrap': False}. Best is trial 45 with value: 0.8351477449455676.\n",
      "[I 2024-01-26 22:51:27,969] Trial 54 finished with value: 0.8367029548989113 and parameters: {'n_estimators': 232, 'max_depth': 30, 'bootstrap': False}. Best is trial 54 with value: 0.8367029548989113.\n",
      "[I 2024-01-26 22:51:28,516] Trial 55 finished with value: 0.8320373250388803 and parameters: {'n_estimators': 221, 'max_depth': 30, 'bootstrap': False}. Best is trial 54 with value: 0.8367029548989113.\n",
      "[I 2024-01-26 22:51:29,175] Trial 56 finished with value: 0.8242612752721618 and parameters: {'n_estimators': 260, 'max_depth': 29, 'bootstrap': False}. Best is trial 54 with value: 0.8367029548989113.\n",
      "[I 2024-01-26 22:51:29,557] Trial 57 finished with value: 0.8227060653188181 and parameters: {'n_estimators': 148, 'max_depth': 30, 'bootstrap': True}. Best is trial 54 with value: 0.8367029548989113.\n",
      "[I 2024-01-26 22:51:29,991] Trial 58 finished with value: 0.8320373250388803 and parameters: {'n_estimators': 185, 'max_depth': 28, 'bootstrap': False}. Best is trial 54 with value: 0.8367029548989113.\n",
      "[I 2024-01-26 22:51:30,261] Trial 59 finished with value: 0.8273716951788491 and parameters: {'n_estimators': 121, 'max_depth': 26, 'bootstrap': False}. Best is trial 54 with value: 0.8367029548989113.\n",
      "[I 2024-01-26 22:51:31,145] Trial 60 finished with value: 0.8273716951788491 and parameters: {'n_estimators': 365, 'max_depth': 29, 'bootstrap': False}. Best is trial 54 with value: 0.8367029548989113.\n",
      "[I 2024-01-26 22:51:31,713] Trial 61 finished with value: 0.8304821150855366 and parameters: {'n_estimators': 244, 'max_depth': 28, 'bootstrap': False}. Best is trial 54 with value: 0.8367029548989113.\n",
      "[I 2024-01-26 22:51:32,293] Trial 62 finished with value: 0.8367029548989113 and parameters: {'n_estimators': 226, 'max_depth': 30, 'bootstrap': False}. Best is trial 54 with value: 0.8367029548989113.\n",
      "[I 2024-01-26 22:51:32,884] Trial 63 finished with value: 0.8367029548989113 and parameters: {'n_estimators': 226, 'max_depth': 30, 'bootstrap': False}. Best is trial 54 with value: 0.8367029548989113.\n",
      "[I 2024-01-26 22:51:33,594] Trial 64 finished with value: 0.8320373250388803 and parameters: {'n_estimators': 268, 'max_depth': 30, 'bootstrap': False}. Best is trial 54 with value: 0.8367029548989113.\n",
      "[I 2024-01-26 22:51:34,007] Trial 65 finished with value: 0.8242612752721618 and parameters: {'n_estimators': 166, 'max_depth': 30, 'bootstrap': True}. Best is trial 54 with value: 0.8367029548989113.\n",
      "[I 2024-01-26 22:51:34,382] Trial 66 finished with value: 0.80248833592535 and parameters: {'n_estimators': 188, 'max_depth': 19, 'bootstrap': False}. Best is trial 54 with value: 0.8367029548989113.\n",
      "[I 2024-01-26 22:51:35,012] Trial 67 finished with value: 0.8211508553654744 and parameters: {'n_estimators': 254, 'max_depth': 29, 'bootstrap': False}. Best is trial 54 with value: 0.8367029548989113.\n",
      "[I 2024-01-26 22:51:35,808] Trial 68 finished with value: 0.8367029548989113 and parameters: {'n_estimators': 312, 'max_depth': 30, 'bootstrap': False}. Best is trial 54 with value: 0.8367029548989113.\n",
      "[I 2024-01-26 22:51:36,677] Trial 69 finished with value: 0.833592534992224 and parameters: {'n_estimators': 354, 'max_depth': 30, 'bootstrap': False}. Best is trial 54 with value: 0.8367029548989113.\n",
      "[I 2024-01-26 22:51:37,446] Trial 70 finished with value: 0.8273716951788491 and parameters: {'n_estimators': 314, 'max_depth': 29, 'bootstrap': False}. Best is trial 54 with value: 0.8367029548989113.\n",
      "[I 2024-01-26 22:51:38,156] Trial 71 finished with value: 0.8273716951788491 and parameters: {'n_estimators': 296, 'max_depth': 28, 'bootstrap': False}. Best is trial 54 with value: 0.8367029548989113.\n",
      "[I 2024-01-26 22:51:38,854] Trial 72 finished with value: 0.8320373250388803 and parameters: {'n_estimators': 279, 'max_depth': 30, 'bootstrap': False}. Best is trial 54 with value: 0.8367029548989113.\n",
      "[I 2024-01-26 22:51:39,618] Trial 73 finished with value: 0.8258164852255054 and parameters: {'n_estimators': 318, 'max_depth': 27, 'bootstrap': False}. Best is trial 54 with value: 0.8367029548989113.\n",
      "[I 2024-01-26 22:51:40,115] Trial 74 finished with value: 0.8320373250388803 and parameters: {'n_estimators': 217, 'max_depth': 26, 'bootstrap': False}. Best is trial 54 with value: 0.8367029548989113.\n",
      "[I 2024-01-26 22:51:40,710] Trial 75 finished with value: 0.8195956454121306 and parameters: {'n_estimators': 240, 'max_depth': 29, 'bootstrap': True}. Best is trial 54 with value: 0.8367029548989113.\n",
      "[I 2024-01-26 22:51:41,334] Trial 76 finished with value: 0.8304821150855366 and parameters: {'n_estimators': 266, 'max_depth': 28, 'bootstrap': False}. Best is trial 54 with value: 0.8367029548989113.\n",
      "[I 2024-01-26 22:51:41,832] Trial 77 finished with value: 0.8351477449455676 and parameters: {'n_estimators': 201, 'max_depth': 30, 'bootstrap': False}. Best is trial 54 with value: 0.8367029548989113.\n",
      "[I 2024-01-26 22:51:42,177] Trial 78 finished with value: 0.7091757387247278 and parameters: {'n_estimators': 194, 'max_depth': 10, 'bootstrap': False}. Best is trial 54 with value: 0.8367029548989113.\n",
      "[I 2024-01-26 22:51:42,752] Trial 79 finished with value: 0.8367029548989113 and parameters: {'n_estimators': 225, 'max_depth': 30, 'bootstrap': False}. Best is trial 54 with value: 0.8367029548989113.\n",
      "[I 2024-01-26 22:51:43,306] Trial 80 finished with value: 0.8351477449455676 and parameters: {'n_estimators': 228, 'max_depth': 30, 'bootstrap': False}. Best is trial 54 with value: 0.8367029548989113.\n",
      "[I 2024-01-26 22:51:43,890] Trial 81 finished with value: 0.8351477449455676 and parameters: {'n_estimators': 229, 'max_depth': 30, 'bootstrap': False}. Best is trial 54 with value: 0.8367029548989113.\n",
      "[I 2024-01-26 22:51:44,459] Trial 82 finished with value: 0.8320373250388803 and parameters: {'n_estimators': 221, 'max_depth': 30, 'bootstrap': False}. Best is trial 54 with value: 0.8367029548989113.\n",
      "[I 2024-01-26 22:51:45,044] Trial 83 finished with value: 0.8227060653188181 and parameters: {'n_estimators': 248, 'max_depth': 29, 'bootstrap': False}. Best is trial 54 with value: 0.8367029548989113.\n",
      "[I 2024-01-26 22:51:45,880] Trial 84 finished with value: 0.8367029548989113 and parameters: {'n_estimators': 195, 'max_depth': 30, 'bootstrap': False}. Best is trial 54 with value: 0.8367029548989113.\n",
      "[I 2024-01-26 22:51:46,377] Trial 85 finished with value: 0.8320373250388803 and parameters: {'n_estimators': 199, 'max_depth': 29, 'bootstrap': False}. Best is trial 54 with value: 0.8367029548989113.\n",
      "[I 2024-01-26 22:51:46,732] Trial 86 finished with value: 0.7978227060653188 and parameters: {'n_estimators': 181, 'max_depth': 17, 'bootstrap': False}. Best is trial 54 with value: 0.8367029548989113.\n",
      "[I 2024-01-26 22:51:47,266] Trial 87 finished with value: 0.8320373250388803 and parameters: {'n_estimators': 207, 'max_depth': 30, 'bootstrap': False}. Best is trial 54 with value: 0.8367029548989113.\n",
      "[I 2024-01-26 22:51:47,663] Trial 88 finished with value: 0.8195956454121306 and parameters: {'n_estimators': 162, 'max_depth': 29, 'bootstrap': True}. Best is trial 54 with value: 0.8367029548989113.\n",
      "[I 2024-01-26 22:51:48,180] Trial 89 finished with value: 0.8320373250388803 and parameters: {'n_estimators': 215, 'max_depth': 28, 'bootstrap': False}. Best is trial 54 with value: 0.8367029548989113.\n",
      "[I 2024-01-26 22:51:48,671] Trial 90 finished with value: 0.8351477449455676 and parameters: {'n_estimators': 192, 'max_depth': 29, 'bootstrap': False}. Best is trial 54 with value: 0.8367029548989113.\n",
      "[I 2024-01-26 22:51:49,284] Trial 91 finished with value: 0.8351477449455676 and parameters: {'n_estimators': 236, 'max_depth': 30, 'bootstrap': False}. Best is trial 54 with value: 0.8367029548989113.\n",
      "[I 2024-01-26 22:51:49,881] Trial 92 finished with value: 0.8351477449455676 and parameters: {'n_estimators': 228, 'max_depth': 30, 'bootstrap': False}. Best is trial 54 with value: 0.8367029548989113.\n",
      "[I 2024-01-26 22:51:50,414] Trial 93 finished with value: 0.8351477449455676 and parameters: {'n_estimators': 213, 'max_depth': 30, 'bootstrap': False}. Best is trial 54 with value: 0.8367029548989113.\n",
      "[I 2024-01-26 22:51:50,872] Trial 94 finished with value: 0.8273716951788491 and parameters: {'n_estimators': 176, 'max_depth': 29, 'bootstrap': False}. Best is trial 54 with value: 0.8367029548989113.\n",
      "[I 2024-01-26 22:51:51,501] Trial 95 finished with value: 0.8320373250388803 and parameters: {'n_estimators': 254, 'max_depth': 28, 'bootstrap': False}. Best is trial 54 with value: 0.8367029548989113.\n",
      "[I 2024-01-26 22:51:51,935] Trial 96 finished with value: 0.7682737169517885 and parameters: {'n_estimators': 241, 'max_depth': 14, 'bootstrap': False}. Best is trial 54 with value: 0.8367029548989113.\n",
      "[I 2024-01-26 22:51:52,355] Trial 97 finished with value: 0.8258164852255054 and parameters: {'n_estimators': 201, 'max_depth': 22, 'bootstrap': False}. Best is trial 54 with value: 0.8367029548989113.\n",
      "[I 2024-01-26 22:51:52,901] Trial 98 finished with value: 0.8351477449455676 and parameters: {'n_estimators': 224, 'max_depth': 30, 'bootstrap': False}. Best is trial 54 with value: 0.8367029548989113.\n",
      "[I 2024-01-26 22:51:53,591] Trial 99 finished with value: 0.8289269051321928 and parameters: {'n_estimators': 279, 'max_depth': 28, 'bootstrap': False}. Best is trial 54 with value: 0.8367029548989113.\n"
     ]
    },
    {
     "name": "stdout",
     "output_type": "stream",
     "text": [
      "Best parameters: {'n_estimators': 232, 'max_depth': 30, 'bootstrap': False}\n",
      "Random Forest Model Accuracy: 83.6703%\n",
      "[0.39810338 0.60189662]\n"
     ]
    }
   ],
   "source": [
    "def objective(trial):\n",
    "    # Define the hyperparameter configuration space\n",
    "    n_estimators = trial.suggest_int('n_estimators', 100, 500)\n",
    "    max_depth = trial.suggest_int('max_depth', 10, 30)\n",
    "    bootstrap = trial.suggest_categorical('bootstrap', [True, False])\n",
    "\n",
    "    # Define a pipeline with preprocessing and model\n",
    "    pipeline = Pipeline([\n",
    "        ('rf', RandomForestClassifier(n_estimators=n_estimators, \n",
    "                                      max_depth=max_depth, \n",
    "                                      bootstrap=bootstrap, \n",
    "                                      n_jobs=-1, \n",
    "                                      random_state=0))\n",
    "    ])\n",
    "\n",
    "    # Train the model\n",
    "    pipeline.fit(X_train_transformed, Y_train)\n",
    "\n",
    "    # Make predictions and evaluate the model\n",
    "    y_pred = pipeline.predict(X_test_transformed)\n",
    "    accuracy = accuracy_score(Y_test, y_pred)\n",
    "    return accuracy\n",
    "\n",
    "# Create a study object and optimize the objective function\n",
    "study = optuna.create_study(direction='maximize')\n",
    "study.optimize(objective, n_trials=100)\n",
    "\n",
    "# Best model after optimization\n",
    "best_params = study.best_params\n",
    "print(\"Best parameters:\", best_params)\n",
    "\n",
    "# Train the best model\n",
    "best_model = RandomForestClassifier(**best_params, random_state=0)\n",
    "best_model.fit(X_train_transformed, Y_train)\n",
    "\n",
    "# Prediction and evaluation\n",
    "y_pred = best_model.predict(X_test_transformed)\n",
    "accuracy_rf_best = accuracy_score(Y_test, y_pred)\n",
    "print(\"Random Forest Model Accuracy: {:.4f}%\".format(accuracy_rf_best * 100))\n",
    "\n",
    "# Probability prediction (if needed)\n",
    "y_pred_prob = best_model.predict_proba(X_test_transformed)\n",
    "print(y_pred_prob[0])\n",
    "\n",
    "# Optional: Feature Importance Analysis\n",
    "importances = best_model.feature_importances_"
   ]
  },
  {
   "cell_type": "markdown",
   "id": "e91ad679",
   "metadata": {},
   "source": [
    "## 7. LIGHT GBM"
   ]
  },
  {
   "cell_type": "code",
   "execution_count": 30,
   "id": "9827b8c3",
   "metadata": {
    "scrolled": true
   },
   "outputs": [
    {
     "name": "stderr",
     "output_type": "stream",
     "text": [
      "[I 2024-01-26 22:51:55,094] A new study created in memory with name: no-name-1dd5213b-b888-42e5-b7ab-e16504eb469a\n",
      "[I 2024-01-26 22:51:55,822] Trial 0 finished with value: 0.7853810264385692 and parameters: {'learning_rate': 0.12220994501488151, 'num_leaves': 270, 'max_depth': 9, 'min_child_samples': 60, 'max_bin': 323, 'subsample': 0.7989500494382393, 'subsample_freq': 3, 'colsample_bytree': 0.592136619834668, 'reg_alpha': 2.3414339608110972e-06, 'reg_lambda': 1.1235902587297781e-07}. Best is trial 0 with value: 0.7853810264385692.\n",
      "[I 2024-01-26 22:51:56,911] Trial 1 finished with value: 0.8040435458786936 and parameters: {'learning_rate': 0.1589745288055141, 'num_leaves': 111, 'max_depth': 18, 'min_child_samples': 42, 'max_bin': 288, 'subsample': 0.7309353446452416, 'subsample_freq': 7, 'colsample_bytree': 0.8686327311753986, 'reg_alpha': 0.00012976785430294087, 'reg_lambda': 0.00024073195912802773}. Best is trial 1 with value: 0.8040435458786936.\n",
      "[I 2024-01-26 22:51:57,403] Trial 2 finished with value: 0.6298600311041991 and parameters: {'learning_rate': 0.030998193694517395, 'num_leaves': 153, 'max_depth': 20, 'min_child_samples': 78, 'max_bin': 352, 'subsample': 0.5401121855125103, 'subsample_freq': 7, 'colsample_bytree': 0.7186903732308683, 'reg_alpha': 0.00027990911597444875, 'reg_lambda': 5.390836513924104e-08}. Best is trial 1 with value: 0.8040435458786936.\n",
      "[I 2024-01-26 22:51:58,003] Trial 3 finished with value: 0.8258164852255054 and parameters: {'learning_rate': 0.10263235608700497, 'num_leaves': 190, 'max_depth': 3, 'min_child_samples': 20, 'max_bin': 303, 'subsample': 0.9531060659618812, 'subsample_freq': 6, 'colsample_bytree': 0.49083503835247244, 'reg_alpha': 0.0004791207288694129, 'reg_lambda': 0.5102416053429961}. Best is trial 3 with value: 0.8258164852255054.\n",
      "[I 2024-01-26 22:51:58,903] Trial 4 finished with value: 0.807153965785381 and parameters: {'learning_rate': 0.10520288643876281, 'num_leaves': 283, 'max_depth': 10, 'min_child_samples': 26, 'max_bin': 279, 'subsample': 0.4384767707195998, 'subsample_freq': 1, 'colsample_bytree': 0.6787977910335814, 'reg_alpha': 1.598101913843474e-08, 'reg_lambda': 3.063861411110865e-08}. Best is trial 3 with value: 0.8258164852255054.\n",
      "[I 2024-01-26 22:52:00,514] Trial 5 finished with value: 0.8102643856920684 and parameters: {'learning_rate': 0.26077971365273883, 'num_leaves': 78, 'max_depth': 36, 'min_child_samples': 28, 'max_bin': 317, 'subsample': 0.6936840536211795, 'subsample_freq': 5, 'colsample_bytree': 0.9295442590010251, 'reg_alpha': 0.03625687021026725, 'reg_lambda': 0.053367764636208834}. Best is trial 3 with value: 0.8258164852255054.\n",
      "[I 2024-01-26 22:52:01,301] Trial 6 finished with value: 0.7993779160186625 and parameters: {'learning_rate': 0.2381382647388842, 'num_leaves': 287, 'max_depth': 37, 'min_child_samples': 51, 'max_bin': 227, 'subsample': 0.676898176031026, 'subsample_freq': 6, 'colsample_bytree': 0.7484473790494061, 'reg_alpha': 9.1927326541597e-05, 'reg_lambda': 0.04689869662281497}. Best is trial 3 with value: 0.8258164852255054.\n",
      "[I 2024-01-26 22:52:11,032] Trial 7 finished with value: 0.8289269051321928 and parameters: {'learning_rate': 0.12707044312627702, 'num_leaves': 152, 'max_depth': 45, 'min_child_samples': 8, 'max_bin': 232, 'subsample': 0.9545475464060684, 'subsample_freq': 5, 'colsample_bytree': 0.5765028435359876, 'reg_alpha': 5.921824260396856e-07, 'reg_lambda': 0.002315061366903594}. Best is trial 7 with value: 0.8289269051321928.\n",
      "[I 2024-01-26 22:52:11,811] Trial 8 finished with value: 0.7838258164852255 and parameters: {'learning_rate': 0.07270308018326344, 'num_leaves': 39, 'max_depth': 18, 'min_child_samples': 62, 'max_bin': 327, 'subsample': 0.886782228294442, 'subsample_freq': 2, 'colsample_bytree': 0.4257910328955977, 'reg_alpha': 2.0359524565828933e-08, 'reg_lambda': 0.00033046699964732956}. Best is trial 7 with value: 0.8289269051321928.\n",
      "[I 2024-01-26 22:52:12,812] Trial 9 finished with value: 0.7900466562986003 and parameters: {'learning_rate': 0.15040804346535133, 'num_leaves': 165, 'max_depth': 35, 'min_child_samples': 37, 'max_bin': 255, 'subsample': 0.5401584715242451, 'subsample_freq': 3, 'colsample_bytree': 0.9466851816695897, 'reg_alpha': 6.820130150136343e-08, 'reg_lambda': 0.07188060857588299}. Best is trial 7 with value: 0.8289269051321928.\n",
      "[I 2024-01-26 22:52:13,415] Trial 10 finished with value: 0.702954898911353 and parameters: {'learning_rate': 0.20188604963784498, 'num_leaves': 217, 'max_depth': 50, 'min_child_samples': 95, 'max_bin': 206, 'subsample': 0.9614697120731203, 'subsample_freq': 4, 'colsample_bytree': 0.5519447759169855, 'reg_alpha': 4.7715467142130485, 'reg_lambda': 0.00010523895408826427}. Best is trial 7 with value: 0.8289269051321928.\n",
      "[I 2024-01-26 22:52:19,634] Trial 11 finished with value: 0.8413685847589425 and parameters: {'learning_rate': 0.06506746974166067, 'num_leaves': 194, 'max_depth': 49, 'min_child_samples': 6, 'max_bin': 397, 'subsample': 0.9861004822720025, 'subsample_freq': 5, 'colsample_bytree': 0.431380362202145, 'reg_alpha': 0.040483683104901, 'reg_lambda': 2.070401292572556}. Best is trial 11 with value: 0.8413685847589425.\n",
      "[I 2024-01-26 22:52:22,919] Trial 12 finished with value: 0.8211508553654744 and parameters: {'learning_rate': 0.03648357924663635, 'num_leaves': 229, 'max_depth': 50, 'min_child_samples': 9, 'max_bin': 395, 'subsample': 0.9949770756203892, 'subsample_freq': 5, 'colsample_bytree': 0.4071138152159182, 'reg_alpha': 0.06794478706868241, 'reg_lambda': 6.476862604896391}. Best is trial 11 with value: 0.8413685847589425.\n",
      "[I 2024-01-26 22:52:29,602] Trial 13 finished with value: 0.833592534992224 and parameters: {'learning_rate': 0.07200666068002361, 'num_leaves': 138, 'max_depth': 44, 'min_child_samples': 7, 'max_bin': 393, 'subsample': 0.8495516474533618, 'subsample_freq': 4, 'colsample_bytree': 0.5842309644204732, 'reg_alpha': 0.02040312560713236, 'reg_lambda': 4.835340389594295e-06}. Best is trial 11 with value: 0.8413685847589425.\n",
      "[I 2024-01-26 22:52:34,503] Trial 14 finished with value: 0.8413685847589425 and parameters: {'learning_rate': 0.06250408015804149, 'num_leaves': 114, 'max_depth': 29, 'min_child_samples': 7, 'max_bin': 390, 'subsample': 0.845961908157753, 'subsample_freq': 4, 'colsample_bytree': 0.4741046966455007, 'reg_alpha': 0.05499396906698441, 'reg_lambda': 1.8891265166883793e-06}. Best is trial 11 with value: 0.8413685847589425.\n",
      "[I 2024-01-26 22:52:36,017] Trial 15 finished with value: 0.7807153965785381 and parameters: {'learning_rate': 0.011465886074503828, 'num_leaves': 95, 'max_depth': 29, 'min_child_samples': 19, 'max_bin': 357, 'subsample': 0.8586306656914758, 'subsample_freq': 0, 'colsample_bytree': 0.4849389944275162, 'reg_alpha': 1.6514873929037515, 'reg_lambda': 2.656593812520709e-06}. Best is trial 11 with value: 0.8413685847589425.\n",
      "[I 2024-01-26 22:52:37,400] Trial 16 finished with value: 0.80248833592535 and parameters: {'learning_rate': 0.07373825955309532, 'num_leaves': 41, 'max_depth': 28, 'min_child_samples': 34, 'max_bin': 369, 'subsample': 0.7886753946299068, 'subsample_freq': 2, 'colsample_bytree': 0.48732308240731625, 'reg_alpha': 0.3351719141062107, 'reg_lambda': 2.0011211065963484e-06}. Best is trial 11 with value: 0.8413685847589425.\n",
      "[I 2024-01-26 22:52:41,125] Trial 17 finished with value: 0.8304821150855366 and parameters: {'learning_rate': 0.1855819325970181, 'num_leaves': 198, 'max_depth': 24, 'min_child_samples': 5, 'max_bin': 376, 'subsample': 0.9047098066221015, 'subsample_freq': 4, 'colsample_bytree': 0.6338630750684521, 'reg_alpha': 0.0022053692644660285, 'reg_lambda': 4.591868861932375}. Best is trial 11 with value: 0.8413685847589425.\n",
      "[I 2024-01-26 22:52:44,002] Trial 18 finished with value: 0.8149300155520995 and parameters: {'learning_rate': 0.05235768013404232, 'num_leaves': 250, 'max_depth': 42, 'min_child_samples': 17, 'max_bin': 343, 'subsample': 0.7953136307287492, 'subsample_freq': 6, 'colsample_bytree': 0.7684922421498468, 'reg_alpha': 0.006530808052781293, 'reg_lambda': 2.3632877577003417e-05}. Best is trial 11 with value: 0.8413685847589425.\n",
      "[I 2024-01-26 22:52:44,414] Trial 19 finished with value: 0.6687402799377916 and parameters: {'learning_rate': 0.2889079824052646, 'num_leaves': 127, 'max_depth': -1, 'min_child_samples': 77, 'max_bin': 398, 'subsample': 0.6086389952497608, 'subsample_freq': 2, 'colsample_bytree': 0.45574839881739015, 'reg_alpha': 0.4004980752722999, 'reg_lambda': 3.5757842035943794e-07}. Best is trial 11 with value: 0.8413685847589425.\n",
      "[I 2024-01-26 22:52:45,817] Trial 20 finished with value: 0.8009331259720062 and parameters: {'learning_rate': 0.010916526700155346, 'num_leaves': 67, 'max_depth': 29, 'min_child_samples': 48, 'max_bin': 375, 'subsample': 0.9015560755817765, 'subsample_freq': 3, 'colsample_bytree': 0.8338328558749697, 'reg_alpha': 2.543445954559844e-05, 'reg_lambda': 0.004067793002936949}. Best is trial 11 with value: 0.8413685847589425.\n",
      "[I 2024-01-26 22:52:50,327] Trial 21 finished with value: 0.8258164852255054 and parameters: {'learning_rate': 0.0845408804608646, 'num_leaves': 132, 'max_depth': 42, 'min_child_samples': 13, 'max_bin': 384, 'subsample': 0.8542005703248922, 'subsample_freq': 4, 'colsample_bytree': 0.5346420951406479, 'reg_alpha': 0.019343838263048124, 'reg_lambda': 6.771069344960822e-06}. Best is trial 11 with value: 0.8413685847589425.\n",
      "[I 2024-01-26 22:52:52,303] Trial 22 finished with value: 0.807153965785381 and parameters: {'learning_rate': 0.05854547629783209, 'num_leaves': 180, 'max_depth': 45, 'min_child_samples': 24, 'max_bin': 398, 'subsample': 0.7557957245692356, 'subsample_freq': 5, 'colsample_bytree': 0.6313859962711642, 'reg_alpha': 0.0020523683881470784, 'reg_lambda': 7.029406671336683e-07}. Best is trial 11 with value: 0.8413685847589425.\n",
      "[I 2024-01-26 22:52:58,721] Trial 23 finished with value: 0.8429237947122862 and parameters: {'learning_rate': 0.09287625043511955, 'num_leaves': 129, 'max_depth': 40, 'min_child_samples': 6, 'max_bin': 361, 'subsample': 0.8432789280769359, 'subsample_freq': 4, 'colsample_bytree': 0.525649323631597, 'reg_alpha': 0.2548302136493535, 'reg_lambda': 1.7794118541092204e-05}. Best is trial 23 with value: 0.8429237947122862.\n",
      "[I 2024-01-26 22:53:02,327] Trial 24 finished with value: 0.8289269051321928 and parameters: {'learning_rate': 0.09348913890472152, 'num_leaves': 110, 'max_depth': 38, 'min_child_samples': 15, 'max_bin': 361, 'subsample': 0.9998850945757146, 'subsample_freq': 5, 'colsample_bytree': 0.4034961783994266, 'reg_alpha': 0.23693120034102333, 'reg_lambda': 2.424767712850433e-05}. Best is trial 23 with value: 0.8429237947122862.\n",
      "[I 2024-01-26 22:53:03,120] Trial 25 finished with value: 0.8087091757387247 and parameters: {'learning_rate': 0.12919058996586408, 'num_leaves': 65, 'max_depth': 31, 'min_child_samples': 31, 'max_bin': 338, 'subsample': 0.6381132723620704, 'subsample_freq': 3, 'colsample_bytree': 0.5305202793143311, 'reg_alpha': 3.811897421072695, 'reg_lambda': 0.0038977211613512915}. Best is trial 23 with value: 0.8429237947122862.\n",
      "[I 2024-01-26 22:53:07,809] Trial 26 finished with value: 0.8367029548989113 and parameters: {'learning_rate': 0.04272603171374169, 'num_leaves': 212, 'max_depth': 40, 'min_child_samples': 5, 'max_bin': 381, 'subsample': 0.8163176729686288, 'subsample_freq': 6, 'colsample_bytree': 0.4572142757534826, 'reg_alpha': 0.8792447481628364, 'reg_lambda': 3.359166589476759e-05}. Best is trial 23 with value: 0.8429237947122862.\n",
      "[I 2024-01-26 22:53:11,533] Trial 27 finished with value: 0.8164852255054432 and parameters: {'learning_rate': 0.15507107233038914, 'num_leaves': 173, 'max_depth': 47, 'min_child_samples': 15, 'max_bin': 346, 'subsample': 0.9114640748777433, 'subsample_freq': 4, 'colsample_bytree': 0.5124369779048161, 'reg_alpha': 0.09221024605869034, 'reg_lambda': 3.6795775831079776e-07}. Best is trial 23 with value: 0.8429237947122862.\n",
      "[I 2024-01-26 22:53:12,821] Trial 28 finished with value: 0.8055987558320373 and parameters: {'learning_rate': 0.10821904184652027, 'num_leaves': 99, 'max_depth': 24, 'min_child_samples': 40, 'max_bin': 384, 'subsample': 0.9355305701953949, 'subsample_freq': 5, 'colsample_bytree': 0.44916719358795587, 'reg_alpha': 0.0032934512552310518, 'reg_lambda': 1.528918378289941e-08}. Best is trial 23 with value: 0.8429237947122862.\n",
      "[I 2024-01-26 22:53:13,601] Trial 29 finished with value: 0.8040435458786936 and parameters: {'learning_rate': 0.12384203961002249, 'num_leaves': 253, 'max_depth': 33, 'min_child_samples': 24, 'max_bin': 366, 'subsample': 0.735926407780865, 'subsample_freq': 3, 'colsample_bytree': 0.6389376509282554, 'reg_alpha': 8.73369854390533, 'reg_lambda': 0.0010977705399129838}. Best is trial 23 with value: 0.8429237947122862.\n",
      "[I 2024-01-26 22:53:14,502] Trial 30 finished with value: 0.8040435458786936 and parameters: {'learning_rate': 0.057370849128819026, 'num_leaves': 125, 'max_depth': 14, 'min_child_samples': 59, 'max_bin': 330, 'subsample': 0.825339847433766, 'subsample_freq': 4, 'colsample_bytree': 0.6038551428704724, 'reg_alpha': 4.585471428635711e-06, 'reg_lambda': 0.5930594746312717}. Best is trial 23 with value: 0.8429237947122862.\n",
      "[I 2024-01-26 22:53:19,931] Trial 31 finished with value: 0.8444790046656299 and parameters: {'learning_rate': 0.04020540809797753, 'num_leaves': 213, 'max_depth': 39, 'min_child_samples': 5, 'max_bin': 382, 'subsample': 0.7822703340909337, 'subsample_freq': 6, 'colsample_bytree': 0.4537115293326093, 'reg_alpha': 0.5479155887795514, 'reg_lambda': 3.1227476864074274e-05}. Best is trial 31 with value: 0.8444790046656299.\n",
      "[I 2024-01-26 22:53:23,508] Trial 32 finished with value: 0.8211508553654744 and parameters: {'learning_rate': 0.024108349278990606, 'num_leaves': 201, 'max_depth': 40, 'min_child_samples': 12, 'max_bin': 387, 'subsample': 0.7611310467418244, 'subsample_freq': 6, 'colsample_bytree': 0.45522401228822906, 'reg_alpha': 0.14981990484181315, 'reg_lambda': 0.00011665130894039381}. Best is trial 31 with value: 0.8444790046656299.\n",
      "[I 2024-01-26 22:53:26,104] Trial 33 finished with value: 0.8242612752721618 and parameters: {'learning_rate': 0.05045286936323219, 'num_leaves': 243, 'max_depth': 48, 'min_child_samples': 12, 'max_bin': 364, 'subsample': 0.7857423278568968, 'subsample_freq': 7, 'colsample_bytree': 0.49825984198363465, 'reg_alpha': 1.2040072799665722, 'reg_lambda': 1.3675905329285821e-05}. Best is trial 31 with value: 0.8444790046656299.\n",
      "[I 2024-01-26 22:53:28,322] Trial 34 finished with value: 0.8180404354587869 and parameters: {'learning_rate': 0.0839259846449134, 'num_leaves': 150, 'max_depth': 33, 'min_child_samples': 22, 'max_bin': 311, 'subsample': 0.8751327483700132, 'subsample_freq': 5, 'colsample_bytree': 0.44050826103293966, 'reg_alpha': 0.01187219184548459, 'reg_lambda': 0.0004925743497509419}. Best is trial 31 with value: 0.8444790046656299.\n",
      "[I 2024-01-26 22:53:35,103] Trial 35 finished with value: 0.8413685847589425 and parameters: {'learning_rate': 0.027692454742098804, 'num_leaves': 180, 'max_depth': 39, 'min_child_samples': 5, 'max_bin': 285, 'subsample': 0.7232313623960632, 'subsample_freq': 7, 'colsample_bytree': 0.5697702067345479, 'reg_alpha': 0.06533623201022509, 'reg_lambda': 1.539468723082556e-07}. Best is trial 31 with value: 0.8444790046656299.\n",
      "[I 2024-01-26 22:53:36,920] Trial 36 finished with value: 0.8273716951788491 and parameters: {'learning_rate': 0.1079573266383395, 'num_leaves': 112, 'max_depth': 26, 'min_child_samples': 19, 'max_bin': 352, 'subsample': 0.824573643104528, 'subsample_freq': 6, 'colsample_bytree': 0.402684528270923, 'reg_alpha': 0.650616795763485, 'reg_lambda': 1.330172451937182e-06}. Best is trial 31 with value: 0.8444790046656299.\n",
      "[I 2024-01-26 22:53:37,502] Trial 37 finished with value: 0.6998444790046656 and parameters: {'learning_rate': 0.06973621779173175, 'num_leaves': 227, 'max_depth': 21, 'min_child_samples': 76, 'max_bin': 374, 'subsample': 0.6516204405542184, 'subsample_freq': 6, 'colsample_bytree': 0.9990779603288775, 'reg_alpha': 1.660981828512551, 'reg_lambda': 6.65218118209747e-05}. Best is trial 31 with value: 0.8444790046656299.\n",
      "[I 2024-01-26 22:53:39,717] Trial 38 finished with value: 0.8102643856920684 and parameters: {'learning_rate': 0.0947212676293954, 'num_leaves': 266, 'max_depth': 34, 'min_child_samples': 27, 'max_bin': 400, 'subsample': 0.9307448847734895, 'subsample_freq': 7, 'colsample_bytree': 0.47966573045231586, 'reg_alpha': 0.00018828366548246376, 'reg_lambda': 6.061719852610307e-08}. Best is trial 31 with value: 0.8444790046656299.\n",
      "[I 2024-01-26 22:53:44,022] Trial 39 finished with value: 0.8164852255054432 and parameters: {'learning_rate': 0.13964737330691093, 'num_leaves': 159, 'max_depth': 43, 'min_child_samples': 11, 'max_bin': 298, 'subsample': 0.7025333296898127, 'subsample_freq': 5, 'colsample_bytree': 0.5173897345888574, 'reg_alpha': 0.0013023533202164595, 'reg_lambda': 0.014214885482482844}. Best is trial 31 with value: 0.8444790046656299.\n",
      "[I 2024-01-26 22:53:44,806] Trial 40 finished with value: 0.702954898911353 and parameters: {'learning_rate': 0.029569816486197102, 'num_leaves': 83, 'max_depth': 36, 'min_child_samples': 100, 'max_bin': 387, 'subsample': 0.9714732084860678, 'subsample_freq': 4, 'colsample_bytree': 0.7037780602002441, 'reg_alpha': 0.008452421848268256, 'reg_lambda': 0.3222949081945756}. Best is trial 31 with value: 0.8444790046656299.\n",
      "[I 2024-01-26 22:53:51,530] Trial 41 finished with value: 0.8460342146189735 and parameters: {'learning_rate': 0.02649738236120063, 'num_leaves': 173, 'max_depth': 39, 'min_child_samples': 5, 'max_bin': 276, 'subsample': 0.707114313012821, 'subsample_freq': 7, 'colsample_bytree': 0.5546210384986183, 'reg_alpha': 0.05639910479622944, 'reg_lambda': 1.365053022963509e-07}. Best is trial 41 with value: 0.8460342146189735.\n",
      "[I 2024-01-26 22:53:54,704] Trial 42 finished with value: 0.8304821150855366 and parameters: {'learning_rate': 0.0425295926408194, 'num_leaves': 143, 'max_depth': 47, 'min_child_samples': 11, 'max_bin': 276, 'subsample': 0.5671321248225671, 'subsample_freq': 7, 'colsample_bytree': 0.5546065794201738, 'reg_alpha': 0.04073167845548206, 'reg_lambda': 1.4924085093881703e-07}. Best is trial 41 with value: 0.8460342146189735.\n",
      "[I 2024-01-26 22:53:56,501] Trial 43 finished with value: 0.80248833592535 and parameters: {'learning_rate': 0.06343722303413633, 'num_leaves': 186, 'max_depth': 40, 'min_child_samples': 17, 'max_bin': 256, 'subsample': 0.4273719464063769, 'subsample_freq': 6, 'colsample_bytree': 0.4319070747390514, 'reg_alpha': 0.20220783588352972, 'reg_lambda': 9.605808799181068e-06}. Best is trial 41 with value: 0.8460342146189735.\n",
      "[I 2024-01-26 22:54:01,216] Trial 44 finished with value: 0.8413685847589425 and parameters: {'learning_rate': 0.043209755990364584, 'num_leaves': 166, 'max_depth': 32, 'min_child_samples': 9, 'max_bin': 236, 'subsample': 0.6902623196964796, 'subsample_freq': 7, 'colsample_bytree': 0.4698727605246252, 'reg_alpha': 0.0334476961482573, 'reg_lambda': 1.0141805200327773e-08}. Best is trial 41 with value: 0.8460342146189735.\n",
      "[I 2024-01-26 22:54:03,508] Trial 45 finished with value: 0.7993779160186625 and parameters: {'learning_rate': 0.020033081977822123, 'num_leaves': 207, 'max_depth': 37, 'min_child_samples': 21, 'max_bin': 264, 'subsample': 0.7388912458984194, 'subsample_freq': 5, 'colsample_bytree': 0.6609791163256836, 'reg_alpha': 0.0006531200045125402, 'reg_lambda': 7.757646811752541e-07}. Best is trial 41 with value: 0.8460342146189735.\n",
      "[I 2024-01-26 22:54:04,299] Trial 46 finished with value: 0.7667185069984448 and parameters: {'learning_rate': 0.07793407030404138, 'num_leaves': 230, 'max_depth': 7, 'min_child_samples': 70, 'max_bin': 301, 'subsample': 0.764127634164481, 'subsample_freq': 6, 'colsample_bytree': 0.5996072558526759, 'reg_alpha': 0.11787221278883055, 'reg_lambda': 3.419921371751657e-06}. Best is trial 41 with value: 0.8460342146189735.\n",
      "[I 2024-01-26 22:54:09,629] Trial 47 finished with value: 0.838258164852255 and parameters: {'learning_rate': 0.09607987600459097, 'num_leaves': 118, 'max_depth': 45, 'min_child_samples': 5, 'max_bin': 274, 'subsample': 0.8402176492168777, 'subsample_freq': 4, 'colsample_bytree': 0.5110911214257255, 'reg_alpha': 0.49187079386553995, 'reg_lambda': 5.637985810234747e-05}. Best is trial 41 with value: 0.8460342146189735.\n",
      "[I 2024-01-26 22:54:09,925] Trial 48 finished with value: 0.6065318818040435 and parameters: {'learning_rate': 0.19906012068913437, 'num_leaves': 146, 'max_depth': 50, 'min_child_samples': 89, 'max_bin': 357, 'subsample': 0.46312434788569234, 'subsample_freq': 7, 'colsample_bytree': 0.5429044586896417, 'reg_alpha': 3.0684328716502076, 'reg_lambda': 0.000261689035375536}. Best is trial 41 with value: 0.8460342146189735.\n",
      "[I 2024-01-26 22:54:11,523] Trial 49 finished with value: 0.7962674961119751 and parameters: {'learning_rate': 0.03374229278546773, 'num_leaves': 194, 'max_depth': 35, 'min_child_samples': 30, 'max_bin': 315, 'subsample': 0.8731350899307996, 'subsample_freq': 5, 'colsample_bytree': 0.4181984593653162, 'reg_alpha': 0.00581624292334755, 'reg_lambda': 6.074172777000654e-08}. Best is trial 41 with value: 0.8460342146189735.\n",
      "[I 2024-01-26 22:54:16,129] Trial 50 finished with value: 0.8320373250388803 and parameters: {'learning_rate': 0.050416785811718406, 'num_leaves': 158, 'max_depth': 42, 'min_child_samples': 9, 'max_bin': 373, 'subsample': 0.6665476792298969, 'subsample_freq': 1, 'colsample_bytree': 0.4877749639916299, 'reg_alpha': 0.03080070404581044, 'reg_lambda': 3.4310712478056733e-07}. Best is trial 41 with value: 0.8460342146189735.\n",
      "[I 2024-01-26 22:54:23,129] Trial 51 finished with value: 0.8429237947122862 and parameters: {'learning_rate': 0.02158442704653727, 'num_leaves': 176, 'max_depth': 39, 'min_child_samples': 6, 'max_bin': 291, 'subsample': 0.712255015073991, 'subsample_freq': 7, 'colsample_bytree': 0.5711542263547766, 'reg_alpha': 0.05654745614712514, 'reg_lambda': 1.2706974680316587e-07}. Best is trial 41 with value: 0.8460342146189735.\n",
      "[I 2024-01-26 22:54:27,732] Trial 52 finished with value: 0.8304821150855366 and parameters: {'learning_rate': 0.018407258391170262, 'num_leaves': 171, 'max_depth': 30, 'min_child_samples': 8, 'max_bin': 270, 'subsample': 0.7111348135082624, 'subsample_freq': 7, 'colsample_bytree': 0.5701250675014269, 'reg_alpha': 0.10279261483777094, 'reg_lambda': 1.413246056098583e-06}. Best is trial 41 with value: 0.8460342146189735.\n",
      "[I 2024-01-26 22:54:30,328] Trial 53 finished with value: 0.8258164852255054 and parameters: {'learning_rate': 0.06757499464969335, 'num_leaves': 219, 'max_depth': 27, 'min_child_samples': 17, 'max_bin': 293, 'subsample': 0.7728478447677418, 'subsample_freq': 6, 'colsample_bytree': 0.7550866092437176, 'reg_alpha': 0.30064555860920555, 'reg_lambda': 5.2107489854483854e-06}. Best is trial 41 with value: 0.8460342146189735.\n",
      "[I 2024-01-26 22:54:33,420] Trial 54 finished with value: 0.8258164852255054 and parameters: {'learning_rate': 0.04073212224726475, 'num_leaves': 189, 'max_depth': 38, 'min_child_samples': 13, 'max_bin': 288, 'subsample': 0.6751609176447776, 'subsample_freq': 6, 'colsample_bytree': 0.42722469412108416, 'reg_alpha': 0.014916701794942724, 'reg_lambda': 2.5575970664585482e-08}. Best is trial 41 with value: 0.8460342146189735.\n",
      "[I 2024-01-26 22:54:39,303] Trial 55 finished with value: 0.8320373250388803 and parameters: {'learning_rate': 0.018253127468560455, 'num_leaves': 203, 'max_depth': 45, 'min_child_samples': 8, 'max_bin': 392, 'subsample': 0.8075908878002894, 'subsample_freq': 7, 'colsample_bytree': 0.6102286643245063, 'reg_alpha': 0.0503703551964031, 'reg_lambda': 1.1191026697595409e-07}. Best is trial 41 with value: 0.8460342146189735.\n",
      "[I 2024-01-26 22:54:41,704] Trial 56 finished with value: 0.8227060653188181 and parameters: {'learning_rate': 0.06056835845195439, 'num_leaves': 137, 'max_depth': 48, 'min_child_samples': 15, 'max_bin': 308, 'subsample': 0.6159624639421444, 'subsample_freq': 5, 'colsample_bytree': 0.4697205935686616, 'reg_alpha': 6.260163227268133e-05, 'reg_lambda': 6.59329138314337e-07}. Best is trial 41 with value: 0.8460342146189735.\n",
      "[I 2024-01-26 22:54:42,610] Trial 57 finished with value: 0.7682737169517885 and parameters: {'learning_rate': 0.011670673200193304, 'num_leaves': 174, 'max_depth': 41, 'min_child_samples': 45, 'max_bin': 321, 'subsample': 0.7909569785015227, 'subsample_freq': 4, 'colsample_bytree': 0.5036899617691811, 'reg_alpha': 2.100397640457592, 'reg_lambda': 1.393897784691142e-05}. Best is trial 41 with value: 0.8460342146189735.\n",
      "[I 2024-01-26 22:54:43,923] Trial 58 finished with value: 0.80248833592535 and parameters: {'learning_rate': 0.0818645900758535, 'num_leaves': 101, 'max_depth': 37, 'min_child_samples': 7, 'max_bin': 251, 'subsample': 0.7355464025549112, 'subsample_freq': 3, 'colsample_bytree': 0.5276352300619532, 'reg_alpha': 8.351544930604279, 'reg_lambda': 0.00011887615044128839}. Best is trial 41 with value: 0.8460342146189735.\n",
      "[I 2024-01-26 22:54:46,004] Trial 59 finished with value: 0.8102643856920684 and parameters: {'learning_rate': 0.034644865343194615, 'num_leaves': 157, 'max_depth': 43, 'min_child_samples': 19, 'max_bin': 392, 'subsample': 0.8951432109083901, 'subsample_freq': 7, 'colsample_bytree': 0.5520850181939694, 'reg_alpha': 0.6089016208401204, 'reg_lambda': 2.449630070020315e-06}. Best is trial 41 with value: 0.8460342146189735.\n",
      "[I 2024-01-26 22:54:49,328] Trial 60 finished with value: 0.833592534992224 and parameters: {'learning_rate': 0.179058662431274, 'num_leaves': 218, 'max_depth': 20, 'min_child_samples': 5, 'max_bin': 285, 'subsample': 0.8356748255032647, 'subsample_freq': 6, 'colsample_bytree': 0.8107470973551859, 'reg_alpha': 2.6921158404309734e-07, 'reg_lambda': 3.3376270594661426}. Best is trial 41 with value: 0.8460342146189735.\n",
      "[I 2024-01-26 22:54:53,321] Trial 61 finished with value: 0.8258164852255054 and parameters: {'learning_rate': 0.02829545736056131, 'num_leaves': 182, 'max_depth': 40, 'min_child_samples': 10, 'max_bin': 282, 'subsample': 0.7158727861405191, 'subsample_freq': 7, 'colsample_bytree': 0.5698098132432498, 'reg_alpha': 0.06573057365785656, 'reg_lambda': 1.9130855756563025e-07}. Best is trial 41 with value: 0.8460342146189735.\n",
      "[I 2024-01-26 22:54:59,628] Trial 62 finished with value: 0.8444790046656299 and parameters: {'learning_rate': 0.052702588027205885, 'num_leaves': 178, 'max_depth': 38, 'min_child_samples': 6, 'max_bin': 297, 'subsample': 0.7477002094665907, 'subsample_freq': 7, 'colsample_bytree': 0.5866734692806588, 'reg_alpha': 0.003980992688167453, 'reg_lambda': 3.639635719219868e-08}. Best is trial 41 with value: 0.8460342146189735.\n",
      "[I 2024-01-26 22:55:03,727] Trial 63 finished with value: 0.8227060653188181 and parameters: {'learning_rate': 0.04698851681559577, 'num_leaves': 195, 'max_depth': 35, 'min_child_samples': 15, 'max_bin': 294, 'subsample': 0.7501759357641382, 'subsample_freq': 7, 'colsample_bytree': 0.6705677007336097, 'reg_alpha': 0.005443769677090258, 'reg_lambda': 3.097290636258313e-08}. Best is trial 41 with value: 0.8460342146189735.\n",
      "[I 2024-01-26 22:55:09,722] Trial 64 finished with value: 0.8367029548989113 and parameters: {'learning_rate': 0.05671749376986671, 'num_leaves': 166, 'max_depth': 31, 'min_child_samples': 13, 'max_bin': 379, 'subsample': 0.8036496938634677, 'subsample_freq': 6, 'colsample_bytree': 0.591311479802074, 'reg_alpha': 0.01895869176494274, 'reg_lambda': 3.293913357411721e-08}. Best is trial 41 with value: 0.8460342146189735.\n",
      "[I 2024-01-26 22:55:14,924] Trial 65 finished with value: 0.8351477449455676 and parameters: {'learning_rate': 0.0773695201882718, 'num_leaves': 130, 'max_depth': 38, 'min_child_samples': 7, 'max_bin': 331, 'subsample': 0.6893539289204347, 'subsample_freq': 4, 'colsample_bytree': 0.6167698309261263, 'reg_alpha': 0.0008330136009172735, 'reg_lambda': 2.692624492998196e-07}. Best is trial 41 with value: 0.8460342146189735.\n",
      "[I 2024-01-26 22:55:16,717] Trial 66 finished with value: 0.8180404354587869 and parameters: {'learning_rate': 0.11276065650202774, 'num_leaves': 88, 'max_depth': 43, 'min_child_samples': 23, 'max_bin': 306, 'subsample': 0.7782925900480887, 'subsample_freq': 7, 'colsample_bytree': 0.5310582719812723, 'reg_alpha': 0.18983665591278015, 'reg_lambda': 7.771118531603532e-08}. Best is trial 41 with value: 0.8460342146189735.\n",
      "[I 2024-01-26 22:55:20,016] Trial 67 finished with value: 0.8289269051321928 and parameters: {'learning_rate': 0.22165524693089023, 'num_leaves': 150, 'max_depth': 16, 'min_child_samples': 5, 'max_bin': 369, 'subsample': 0.8639991529703239, 'subsample_freq': 2, 'colsample_bytree': 0.6494773825165985, 'reg_alpha': 0.0031005628479055234, 'reg_lambda': 6.39983744568972e-07}. Best is trial 41 with value: 0.8460342146189735.\n",
      "[I 2024-01-26 22:55:22,319] Trial 68 finished with value: 0.8227060653188181 and parameters: {'learning_rate': 0.08782979667055801, 'num_leaves': 69, 'max_depth': 45, 'min_child_samples': 17, 'max_bin': 265, 'subsample': 0.6181869523271353, 'subsample_freq': 6, 'colsample_bytree': 0.4647803381867823, 'reg_alpha': 0.00031647067496832186, 'reg_lambda': 2.2406147951568194e-05}. Best is trial 41 with value: 0.8460342146189735.\n",
      "[I 2024-01-26 22:55:27,517] Trial 69 finished with value: 0.8258164852255054 and parameters: {'learning_rate': 0.06444028770529023, 'num_leaves': 237, 'max_depth': 33, 'min_child_samples': 10, 'max_bin': 390, 'subsample': 0.9245463773444981, 'subsample_freq': 5, 'colsample_bytree': 0.49598783576523653, 'reg_alpha': 0.024272883242936725, 'reg_lambda': 1.2928781515725777e-06}. Best is trial 41 with value: 0.8460342146189735.\n",
      "[I 2024-01-26 22:55:28,309] Trial 70 finished with value: 0.7713841368584758 and parameters: {'learning_rate': 0.05309227689468431, 'num_leaves': 123, 'max_depth': 47, 'min_child_samples': 55, 'max_bin': 382, 'subsample': 0.6467859722188395, 'subsample_freq': 7, 'colsample_bytree': 0.44169496251731183, 'reg_alpha': 0.3403604200715005, 'reg_lambda': 1.4889188308138679e-08}. Best is trial 41 with value: 0.8460342146189735.\n",
      "[I 2024-01-26 22:55:35,030] Trial 71 finished with value: 0.8460342146189735 and parameters: {'learning_rate': 0.025748786072481617, 'num_leaves': 176, 'max_depth': 38, 'min_child_samples': 5, 'max_bin': 293, 'subsample': 0.7193576460320299, 'subsample_freq': 7, 'colsample_bytree': 0.5732956545777866, 'reg_alpha': 0.07331860105730773, 'reg_lambda': 1.0438340393398058e-07}. Best is trial 41 with value: 0.8460342146189735.\n",
      "[I 2024-01-26 22:55:40,124] Trial 72 finished with value: 0.833592534992224 and parameters: {'learning_rate': 0.037037769241372406, 'num_leaves': 209, 'max_depth': 36, 'min_child_samples': 12, 'max_bin': 298, 'subsample': 0.9747345227985555, 'subsample_freq': 7, 'colsample_bytree': 0.5814919184093026, 'reg_alpha': 0.009653612492964416, 'reg_lambda': 0.0007263674365659163}. Best is trial 41 with value: 0.8460342146189735.\n",
      "[I 2024-01-26 22:55:45,632] Trial 73 finished with value: 0.8289269051321928 and parameters: {'learning_rate': 0.02264333284494007, 'num_leaves': 178, 'max_depth': 40, 'min_child_samples': 7, 'max_bin': 291, 'subsample': 0.7538591169372875, 'subsample_freq': 6, 'colsample_bytree': 0.5496862254869588, 'reg_alpha': 0.1250900598877719, 'reg_lambda': 9.573909980715209e-08}. Best is trial 41 with value: 0.8460342146189735.\n",
      "[I 2024-01-26 22:55:49,830] Trial 74 finished with value: 0.8289269051321928 and parameters: {'learning_rate': 0.01358692301748907, 'num_leaves': 196, 'max_depth': 38, 'min_child_samples': 5, 'max_bin': 314, 'subsample': 0.7226027222090234, 'subsample_freq': 7, 'colsample_bytree': 0.6197721827361868, 'reg_alpha': 0.8660294073760013, 'reg_lambda': 3.607983534825142e-08}. Best is trial 41 with value: 0.8460342146189735.\n",
      "[I 2024-01-26 22:55:53,104] Trial 75 finished with value: 0.8164852255054432 and parameters: {'learning_rate': 0.03175114831485422, 'num_leaves': 138, 'max_depth': 41, 'min_child_samples': 14, 'max_bin': 396, 'subsample': 0.7017044775797904, 'subsample_freq': 6, 'colsample_bytree': 0.518203196041432, 'reg_alpha': 0.07775983337245798, 'reg_lambda': 4.62795293525379e-05}. Best is trial 41 with value: 0.8460342146189735.\n",
      "[I 2024-01-26 22:55:56,813] Trial 76 finished with value: 0.8273716951788491 and parameters: {'learning_rate': 0.046689305388930374, 'num_leaves': 186, 'max_depth': 34, 'min_child_samples': 10, 'max_bin': 205, 'subsample': 0.6609600821565584, 'subsample_freq': 7, 'colsample_bytree': 0.6867227839081272, 'reg_alpha': 0.04404483195164176, 'reg_lambda': 2.3223310284571476e-07}. Best is trial 41 with value: 0.8460342146189735.\n",
      "[I 2024-01-26 22:56:01,024] Trial 77 finished with value: 0.8398133748055988 and parameters: {'learning_rate': 0.07186215933425194, 'num_leaves': 168, 'max_depth': 29, 'min_child_samples': 8, 'max_bin': 279, 'subsample': 0.7493392432592169, 'subsample_freq': 4, 'colsample_bytree': 0.5592495807764668, 'reg_alpha': 0.20969888342953355, 'reg_lambda': 0.027587271893563897}. Best is trial 41 with value: 0.8460342146189735.\n",
      "[I 2024-01-26 22:56:03,822] Trial 78 finished with value: 0.8087091757387247 and parameters: {'learning_rate': 0.02511522103054965, 'num_leaves': 109, 'max_depth': 39, 'min_child_samples': 19, 'max_bin': 302, 'subsample': 0.682200084251992, 'subsample_freq': 5, 'colsample_bytree': 0.5853709979838908, 'reg_alpha': 0.015420241006898126, 'reg_lambda': 8.910286912477686e-06}. Best is trial 41 with value: 0.8460342146189735.\n",
      "[I 2024-01-26 22:56:05,124] Trial 79 finished with value: 0.80248833592535 and parameters: {'learning_rate': 0.03958600361566411, 'num_leaves': 161, 'max_depth': 23, 'min_child_samples': 37, 'max_bin': 244, 'subsample': 0.7778122504168316, 'subsample_freq': 7, 'colsample_bytree': 0.47585040281648894, 'reg_alpha': 0.45871937844638183, 'reg_lambda': 4.084769682998159e-07}. Best is trial 41 with value: 0.8460342146189735.\n",
      "[I 2024-01-26 22:56:08,235] Trial 80 finished with value: 0.8227060653188181 and parameters: {'learning_rate': 0.058761336684017715, 'num_leaves': 176, 'max_depth': 44, 'min_child_samples': 15, 'max_bin': 266, 'subsample': 0.8154853235729664, 'subsample_freq': 7, 'colsample_bytree': 0.4493315275881082, 'reg_alpha': 0.003392164187491947, 'reg_lambda': 4.477083503955379e-06}. Best is trial 41 with value: 0.8460342146189735.\n",
      "[I 2024-01-26 22:56:11,825] Trial 81 finished with value: 0.8351477449455676 and parameters: {'learning_rate': 0.025947074879982976, 'num_leaves': 181, 'max_depth': 37, 'min_child_samples': 11, 'max_bin': 282, 'subsample': 0.7289609099180995, 'subsample_freq': 7, 'colsample_bytree': 0.41871287789783534, 'reg_alpha': 0.06767785883095223, 'reg_lambda': 1.7026804817597055e-08}. Best is trial 41 with value: 0.8460342146189735.\n",
      "[I 2024-01-26 22:56:20,327] Trial 82 finished with value: 0.8398133748055988 and parameters: {'learning_rate': 0.05086087680236713, 'num_leaves': 201, 'max_depth': 39, 'min_child_samples': 5, 'max_bin': 271, 'subsample': 0.6341493554425187, 'subsample_freq': 7, 'colsample_bytree': 0.5709386929134282, 'reg_alpha': 0.025596582818166933, 'reg_lambda': 1.0659561951585677e-07}. Best is trial 41 with value: 0.8460342146189735.\n",
      "[I 2024-01-26 22:56:24,902] Trial 83 finished with value: 0.8164852255054432 and parameters: {'learning_rate': 0.27890228453821386, 'num_leaves': 186, 'max_depth': 35, 'min_child_samples': 7, 'max_bin': 400, 'subsample': 0.7180134822028619, 'subsample_freq': 6, 'colsample_bytree': 0.5237453229080719, 'reg_alpha': 0.11137879696854726, 'reg_lambda': 1.5208535803833936e-07}. Best is trial 41 with value: 0.8460342146189735.\n",
      "[I 2024-01-26 22:56:30,431] Trial 84 finished with value: 0.8320373250388803 and parameters: {'learning_rate': 0.03269583581788311, 'num_leaves': 212, 'max_depth': 42, 'min_child_samples': 9, 'max_bin': 288, 'subsample': 0.7040009621344813, 'subsample_freq': 7, 'colsample_bytree': 0.5423301141647353, 'reg_alpha': 0.042213021541246384, 'reg_lambda': 6.299423160486883e-08}. Best is trial 41 with value: 0.8460342146189735.\n",
      "[I 2024-01-26 22:56:35,604] Trial 85 finished with value: 0.8351477449455676 and parameters: {'learning_rate': 0.01739645187290444, 'num_leaves': 153, 'max_depth': 39, 'min_child_samples': 5, 'max_bin': 278, 'subsample': 0.9484169416278692, 'subsample_freq': 3, 'colsample_bytree': 0.5022728791788255, 'reg_alpha': 1.0758402066682557, 'reg_lambda': 0.0017139103022447493}. Best is trial 41 with value: 0.8460342146189735.\n",
      "[I 2024-01-26 22:56:37,502] Trial 86 finished with value: 0.8180404354587869 and parameters: {'learning_rate': 0.1658023516463245, 'num_leaves': 23, 'max_depth': 32, 'min_child_samples': 12, 'max_bin': 221, 'subsample': 0.7653573530054858, 'subsample_freq': 6, 'colsample_bytree': 0.6320158193049001, 'reg_alpha': 0.16126615212124457, 'reg_lambda': 9.468493253297143e-07}. Best is trial 41 with value: 0.8460342146189735.\n",
      "[I 2024-01-26 22:56:41,032] Trial 87 finished with value: 0.8304821150855366 and parameters: {'learning_rate': 0.04506216550079149, 'num_leaves': 225, 'max_depth': 41, 'min_child_samples': 8, 'max_bin': 295, 'subsample': 0.5828204100379573, 'subsample_freq': 7, 'colsample_bytree': 0.48537287826396147, 'reg_alpha': 0.2701712623227037, 'reg_lambda': 0.16945892369552168}. Best is trial 41 with value: 0.8460342146189735.\n",
      "[I 2024-01-26 22:56:43,935] Trial 88 finished with value: 0.8211508553654744 and parameters: {'learning_rate': 0.06487356433421601, 'num_leaves': 189, 'max_depth': 36, 'min_child_samples': 17, 'max_bin': 260, 'subsample': 0.740758658591183, 'subsample_freq': 4, 'colsample_bytree': 0.8946199603240064, 'reg_alpha': 0.001754717695635486, 'reg_lambda': 4.320081394428612e-08}. Best is trial 41 with value: 0.8460342146189735.\n",
      "[I 2024-01-26 22:56:48,524] Trial 89 finished with value: 0.8304821150855366 and parameters: {'learning_rate': 0.039699599022501766, 'num_leaves': 143, 'max_depth': 49, 'min_child_samples': 13, 'max_bin': 388, 'subsample': 0.8793955129797434, 'subsample_freq': 5, 'colsample_bytree': 0.5670997513056387, 'reg_alpha': 0.011653814945047579, 'reg_lambda': 4.372792492639058e-07}. Best is trial 41 with value: 0.8460342146189735.\n",
      "[I 2024-01-26 22:56:50,720] Trial 90 finished with value: 0.8180404354587869 and parameters: {'learning_rate': 0.05527385374271034, 'num_leaves': 168, 'max_depth': 46, 'min_child_samples': 10, 'max_bin': 306, 'subsample': 0.48719001371996207, 'subsample_freq': 7, 'colsample_bytree': 0.5975142162118896, 'reg_alpha': 0.06307538774278836, 'reg_lambda': 2.3384697843544013}. Best is trial 41 with value: 0.8460342146189735.\n",
      "[I 2024-01-26 22:56:55,719] Trial 91 finished with value: 0.8304821150855366 and parameters: {'learning_rate': 0.029194301771961226, 'num_leaves': 165, 'max_depth': 26, 'min_child_samples': 7, 'max_bin': 235, 'subsample': 0.6924019181563018, 'subsample_freq': 7, 'colsample_bytree': 0.46566771382253064, 'reg_alpha': 0.029908309576755138, 'reg_lambda': 1.3177687893840481e-08}. Best is trial 41 with value: 0.8460342146189735.\n",
      "[I 2024-01-26 22:56:56,321] Trial 92 finished with value: 0.6345256609642301 and parameters: {'learning_rate': 0.011252444445492091, 'num_leaves': 177, 'max_depth': 32, 'min_child_samples': 65, 'max_bin': 220, 'subsample': 0.6674842424377118, 'subsample_freq': 7, 'colsample_bytree': 0.4361489403397799, 'reg_alpha': 0.007270473970664155, 'reg_lambda': 2.5251036550951966e-08}. Best is trial 41 with value: 0.8460342146189735.\n",
      "[I 2024-01-26 22:57:00,624] Trial 93 finished with value: 0.8398133748055988 and parameters: {'learning_rate': 0.043115602580881485, 'num_leaves': 205, 'max_depth': 28, 'min_child_samples': 9, 'max_bin': 321, 'subsample': 0.7281857782719953, 'subsample_freq': 7, 'colsample_bytree': 0.41614608091727223, 'reg_alpha': 0.0344219949902811, 'reg_lambda': 1.8517658605425128e-08}. Best is trial 41 with value: 0.8460342146189735.\n",
      "[I 2024-01-26 22:57:05,736] Trial 94 finished with value: 0.8429237947122862 and parameters: {'learning_rate': 0.02428749328666066, 'num_leaves': 160, 'max_depth': 30, 'min_child_samples': 5, 'max_bin': 286, 'subsample': 0.6796270887480718, 'subsample_freq': 6, 'colsample_bytree': 0.4755999074627462, 'reg_alpha': 0.0943091496539526, 'reg_lambda': 1.4558725798647222e-07}. Best is trial 41 with value: 0.8460342146189735.\n",
      "[I 2024-01-26 22:57:11,132] Trial 95 finished with value: 0.833592534992224 and parameters: {'learning_rate': 0.019608685276151165, 'num_leaves': 195, 'max_depth': 34, 'min_child_samples': 7, 'max_bin': 282, 'subsample': 0.8443592603504008, 'subsample_freq': 6, 'colsample_bytree': 0.7278205095197595, 'reg_alpha': 0.10035718471218284, 'reg_lambda': 1.9095284885568693e-07}. Best is trial 41 with value: 0.8460342146189735.\n",
      "[I 2024-01-26 22:57:12,001] Trial 96 finished with value: 0.6982892690513219 and parameters: {'learning_rate': 0.025536321198138416, 'num_leaves': 121, 'max_depth': 30, 'min_child_samples': 87, 'max_bin': 290, 'subsample': 0.8002483290053917, 'subsample_freq': 6, 'colsample_bytree': 0.5085109834342105, 'reg_alpha': 0.4008694343600263, 'reg_lambda': 1.5402282910800227e-06}. Best is trial 41 with value: 0.8460342146189735.\n",
      "[I 2024-01-26 22:57:14,910] Trial 97 finished with value: 0.8351477449455676 and parameters: {'learning_rate': 0.13436694257037599, 'num_leaves': 172, 'max_depth': 23, 'min_child_samples': 5, 'max_bin': 272, 'subsample': 0.6763734766090345, 'subsample_freq': 0, 'colsample_bytree': 0.5321672889475212, 'reg_alpha': 2.411177825368133, 'reg_lambda': 0.00014681370374256244}. Best is trial 41 with value: 0.8460342146189735.\n",
      "[I 2024-01-26 22:57:17,620] Trial 98 finished with value: 0.8227060653188181 and parameters: {'learning_rate': 0.035375679241290175, 'num_leaves': 115, 'max_depth': 44, 'min_child_samples': 11, 'max_bin': 297, 'subsample': 0.7466083773774623, 'subsample_freq': 5, 'colsample_bytree': 0.4919789809812667, 'reg_alpha': 0.7773733235898815, 'reg_lambda': 5.103491308298652e-08}. Best is trial 41 with value: 0.8460342146189735.\n",
      "[I 2024-01-26 22:57:19,505] Trial 99 finished with value: 0.807153965785381 and parameters: {'learning_rate': 0.07454697752620201, 'num_leaves': 134, 'max_depth': 38, 'min_child_samples': 15, 'max_bin': 286, 'subsample': 0.7101432949400746, 'subsample_freq': 3, 'colsample_bytree': 0.4586053924772909, 'reg_alpha': 0.16684802995093176, 'reg_lambda': 9.708545821290999}. Best is trial 41 with value: 0.8460342146189735.\n"
     ]
    },
    {
     "name": "stdout",
     "output_type": "stream",
     "text": [
      "Best parameters: {'learning_rate': 0.02649738236120063, 'num_leaves': 173, 'max_depth': 39, 'min_child_samples': 5, 'max_bin': 276, 'subsample': 0.707114313012821, 'subsample_freq': 7, 'colsample_bytree': 0.5546210384986183, 'reg_alpha': 0.05639910479622944, 'reg_lambda': 1.365053022963509e-07}\n",
      "Improved LightGBM Model Accuracy: 84.1369%\n"
     ]
    }
   ],
   "source": [
    "def objective(trial):\n",
    "    param = {\n",
    "        'objective': 'binary',  # Adjust for your task ('multiclass', etc.)\n",
    "        'metric': 'binary_logloss',  # Adjust for your task ('multi_logloss', etc.)\n",
    "        'verbosity': -1,\n",
    "        'boosting_type': 'gbdt',\n",
    "        'learning_rate': trial.suggest_float('learning_rate', 0.01, 0.3),\n",
    "        'num_leaves': trial.suggest_int('num_leaves', 20, 300),\n",
    "        'max_depth': trial.suggest_int('max_depth', -1, 50),\n",
    "        'min_child_samples': trial.suggest_int('min_child_samples', 5, 100),\n",
    "        'max_bin': trial.suggest_int('max_bin', 200, 400),\n",
    "        'subsample': trial.suggest_float('subsample', 0.4, 1.0),\n",
    "        'subsample_freq': trial.suggest_int('subsample_freq', 0, 7),\n",
    "        'colsample_bytree': trial.suggest_float('colsample_bytree', 0.4, 1.0),\n",
    "        'reg_alpha': trial.suggest_float('reg_alpha', 1e-8, 10.0, log=True),\n",
    "        'reg_lambda': trial.suggest_float('reg_lambda', 1e-8, 10.0, log=True),\n",
    "    }\n",
    "\n",
    "    lgbm = lgb.LGBMClassifier(**param)\n",
    "    lgbm.fit(X_train_transformed, Y_train, \n",
    "             eval_set=(X_test_transformed, Y_test))\n",
    "             #early_stopping_rounds=100, \n",
    "             #verbose=False)\n",
    "\n",
    "    y_pred = lgbm.predict(X_test_transformed)\n",
    "    accuracy = accuracy_score(Y_test, y_pred)\n",
    "    return accuracy\n",
    "\n",
    "study = optuna.create_study(direction='maximize')\n",
    "study.optimize(objective, n_trials=100)\n",
    "\n",
    "# Best parameters after optimization\n",
    "best_params = study.best_params\n",
    "print(\"Best parameters:\", best_params)\n",
    "\n",
    "# Train the best model with early stopping\n",
    "best_lgbm = lgb.LGBMClassifier(**best_params,min_gain_to_split=0.05,verbose=-1)\n",
    "best_lgbm.fit(X_train_transformed, Y_train,\n",
    "              eval_set=(X_test_transformed, Y_test))\n",
    "              #early_stopping_rounds=100,\n",
    "              #verbose=False)\n",
    "\n",
    "# Evaluation\n",
    "y_pred_best = best_lgbm.predict(X_test_transformed)\n",
    "accuracy_lgb_best = accuracy_score(Y_test, y_pred_best)\n",
    "print(\"Improved LightGBM Model Accuracy: {:.4f}%\".format(accuracy_lgb_best * 100))\n"
   ]
  },
  {
   "cell_type": "markdown",
   "id": "9e5c5353",
   "metadata": {},
   "source": [
    "## 8. CatBoost"
   ]
  },
  {
   "cell_type": "code",
   "execution_count": 31,
   "id": "ab6e4ef8",
   "metadata": {
    "scrolled": true
   },
   "outputs": [
    {
     "name": "stderr",
     "output_type": "stream",
     "text": [
      "[I 2024-01-26 22:57:26,142] A new study created in memory with name: no-name-f46245a6-4ae3-4e9c-8859-a1e153ae1b7c\n",
      "[I 2024-01-26 22:57:36,864] Trial 0 finished with value: 0.8475894245723172 and parameters: {'iterations': 812, 'depth': 5, 'learning_rate': 0.19198306176438565, 'random_strength': 18, 'bagging_temperature': 0.9137071136586083, 'l2_leaf_reg': 1.3946941996342117, 'border_count': 94}. Best is trial 0 with value: 0.8475894245723172.\n",
      "[I 2024-01-26 22:58:28,876] Trial 1 finished with value: 0.8460342146189735 and parameters: {'iterations': 553, 'depth': 10, 'learning_rate': 0.14127397659599658, 'random_strength': 12, 'bagging_temperature': 0.6016083662437928, 'l2_leaf_reg': 1.628253712789163e-07, 'border_count': 48}. Best is trial 0 with value: 0.8475894245723172.\n",
      "[I 2024-01-26 22:58:33,867] Trial 2 finished with value: 0.8351477449455676 and parameters: {'iterations': 374, 'depth': 5, 'learning_rate': 0.060891103532475066, 'random_strength': 11, 'bagging_temperature': 0.9776436033798424, 'l2_leaf_reg': 0.3933309096541396, 'border_count': 252}. Best is trial 0 with value: 0.8475894245723172.\n",
      "[I 2024-01-26 22:58:44,105] Trial 3 finished with value: 0.8413685847589425 and parameters: {'iterations': 294, 'depth': 8, 'learning_rate': 0.227366120363507, 'random_strength': 8, 'bagging_temperature': 0.49992096178557954, 'l2_leaf_reg': 2.001403830862771e-08, 'border_count': 168}. Best is trial 0 with value: 0.8475894245723172.\n",
      "[I 2024-01-26 22:59:01,774] Trial 4 finished with value: 0.838258164852255 and parameters: {'iterations': 689, 'depth': 7, 'learning_rate': 0.254402967267097, 'random_strength': 6, 'bagging_temperature': 0.3079521130927687, 'l2_leaf_reg': 8.499098302722614e-07, 'border_count': 72}. Best is trial 0 with value: 0.8475894245723172.\n",
      "[I 2024-01-26 22:59:57,787] Trial 5 finished with value: 0.8351477449455676 and parameters: {'iterations': 883, 'depth': 9, 'learning_rate': 0.06350752484113065, 'random_strength': 9, 'bagging_temperature': 0.24359255539057023, 'l2_leaf_reg': 0.006876037676540899, 'border_count': 49}. Best is trial 0 with value: 0.8475894245723172.\n",
      "[I 2024-01-26 23:00:05,371] Trial 6 finished with value: 0.8429237947122862 and parameters: {'iterations': 803, 'depth': 4, 'learning_rate': 0.2864403428011549, 'random_strength': 10, 'bagging_temperature': 0.07473241233258854, 'l2_leaf_reg': 0.0027126979149559335, 'border_count': 227}. Best is trial 0 with value: 0.8475894245723172.\n",
      "[I 2024-01-26 23:00:11,971] Trial 7 finished with value: 0.8460342146189735 and parameters: {'iterations': 193, 'depth': 8, 'learning_rate': 0.2956896567890101, 'random_strength': 8, 'bagging_temperature': 0.8388875192074053, 'l2_leaf_reg': 7.97778840405344e-06, 'border_count': 95}. Best is trial 0 with value: 0.8475894245723172.\n",
      "[I 2024-01-26 23:00:18,911] Trial 8 finished with value: 0.8413685847589425 and parameters: {'iterations': 516, 'depth': 5, 'learning_rate': 0.18798602764522865, 'random_strength': 4, 'bagging_temperature': 0.08155231020341769, 'l2_leaf_reg': 0.00012946973946989485, 'border_count': 230}. Best is trial 0 with value: 0.8475894245723172.\n",
      "[I 2024-01-26 23:00:26,805] Trial 9 finished with value: 0.8320373250388803 and parameters: {'iterations': 761, 'depth': 4, 'learning_rate': 0.10904450791636654, 'random_strength': 13, 'bagging_temperature': 0.892203699527062, 'l2_leaf_reg': 3.2974911579377665e-06, 'border_count': 238}. Best is trial 0 with value: 0.8475894245723172.\n",
      "[I 2024-01-26 23:00:43,033] Trial 10 finished with value: 0.8522550544323484 and parameters: {'iterations': 936, 'depth': 6, 'learning_rate': 0.19941858513499514, 'random_strength': 20, 'bagging_temperature': 0.6575403342468029, 'l2_leaf_reg': 9.592271405652724, 'border_count': 125}. Best is trial 10 with value: 0.8522550544323484.\n",
      "[I 2024-01-26 23:01:00,065] Trial 11 finished with value: 0.8429237947122862 and parameters: {'iterations': 999, 'depth': 6, 'learning_rate': 0.19491389306112594, 'random_strength': 20, 'bagging_temperature': 0.6693731892224394, 'l2_leaf_reg': 7.592827065186652, 'border_count': 127}. Best is trial 10 with value: 0.8522550544323484.\n",
      "[I 2024-01-26 23:01:16,812] Trial 12 finished with value: 0.8367029548989113 and parameters: {'iterations': 976, 'depth': 6, 'learning_rate': 0.15808889352352748, 'random_strength': 20, 'bagging_temperature': 0.746340215088811, 'l2_leaf_reg': 8.911424576720167, 'border_count': 148}. Best is trial 10 with value: 0.8522550544323484.\n",
      "[I 2024-01-26 23:01:27,646] Trial 13 finished with value: 0.8413685847589425 and parameters: {'iterations': 646, 'depth': 6, 'learning_rate': 0.20189968501137437, 'random_strength': 16, 'bagging_temperature': 0.4890715770100497, 'l2_leaf_reg': 0.11973476934776649, 'border_count': 109}. Best is trial 10 with value: 0.8522550544323484.\n",
      "[I 2024-01-26 23:01:39,063] Trial 14 finished with value: 0.8398133748055988 and parameters: {'iterations': 869, 'depth': 5, 'learning_rate': 0.10770633880823131, 'random_strength': 16, 'bagging_temperature': 0.7834956088717546, 'l2_leaf_reg': 0.2725046464903432, 'border_count': 178}. Best is trial 10 with value: 0.8522550544323484.\n",
      "[I 2024-01-26 23:02:02,272] Trial 15 finished with value: 0.8522550544323484 and parameters: {'iterations': 896, 'depth': 7, 'learning_rate': 0.23620156369986667, 'random_strength': 17, 'bagging_temperature': 0.9775532889573118, 'l2_leaf_reg': 0.030083313397372316, 'border_count': 84}. Best is trial 10 with value: 0.8522550544323484.\n",
      "[I 2024-01-26 23:02:23,374] Trial 16 finished with value: 0.8258164852255054 and parameters: {'iterations': 918, 'depth': 7, 'learning_rate': 0.011452136342338048, 'random_strength': 15, 'bagging_temperature': 0.3758790449754918, 'l2_leaf_reg': 0.02136995920708767, 'border_count': 135}. Best is trial 10 with value: 0.8522550544323484.\n",
      "[I 2024-01-26 23:02:49,387] Trial 17 finished with value: 0.8460342146189735 and parameters: {'iterations': 679, 'depth': 8, 'learning_rate': 0.2529005286410145, 'random_strength': 19, 'bagging_temperature': 0.996352837312818, 'l2_leaf_reg': 0.00033025381642914735, 'border_count': 75}. Best is trial 10 with value: 0.8522550544323484.\n",
      "[I 2024-01-26 23:03:00,305] Trial 18 finished with value: 0.8506998444790047 and parameters: {'iterations': 486, 'depth': 7, 'learning_rate': 0.23520382818139432, 'random_strength': 17, 'bagging_temperature': 0.6371144010293559, 'l2_leaf_reg': 0.000553160474982591, 'border_count': 179}. Best is trial 10 with value: 0.8522550544323484.\n",
      "[I 2024-01-26 23:03:44,174] Trial 19 finished with value: 0.8460342146189735 and parameters: {'iterations': 734, 'depth': 9, 'learning_rate': 0.2689956566239648, 'random_strength': 1, 'bagging_temperature': 0.736950493120953, 'l2_leaf_reg': 0.04470488557671564, 'border_count': 32}. Best is trial 10 with value: 0.8522550544323484.\n",
      "[I 2024-01-26 23:03:54,748] Trial 20 finished with value: 0.8475894245723172 and parameters: {'iterations': 619, 'depth': 6, 'learning_rate': 0.15787375576439697, 'random_strength': 13, 'bagging_temperature': 0.5505228560640553, 'l2_leaf_reg': 0.8928708110187765, 'border_count': 115}. Best is trial 10 with value: 0.8522550544323484.\n",
      "[I 2024-01-26 23:04:04,755] Trial 21 finished with value: 0.8444790046656299 and parameters: {'iterations': 440, 'depth': 7, 'learning_rate': 0.23023608727463574, 'random_strength': 17, 'bagging_temperature': 0.6569897763489947, 'l2_leaf_reg': 0.0007818699614943779, 'border_count': 194}. Best is trial 10 with value: 0.8522550544323484.\n",
      "[I 2024-01-26 23:04:15,566] Trial 22 finished with value: 0.8538102643856921 and parameters: {'iterations': 480, 'depth': 7, 'learning_rate': 0.22554147090230564, 'random_strength': 15, 'bagging_temperature': 0.46824178581485304, 'l2_leaf_reg': 6.16102885438553e-05, 'border_count': 156}. Best is trial 22 with value: 0.8538102643856921.\n",
      "[I 2024-01-26 23:04:27,341] Trial 23 finished with value: 0.8429237947122862 and parameters: {'iterations': 338, 'depth': 8, 'learning_rate': 0.21551573777283922, 'random_strength': 14, 'bagging_temperature': 0.3981715338615201, 'l2_leaf_reg': 4.203604648264914e-05, 'border_count': 146}. Best is trial 22 with value: 0.8538102643856921.\n",
      "[I 2024-01-26 23:04:36,840] Trial 24 finished with value: 0.8460342146189735 and parameters: {'iterations': 569, 'depth': 6, 'learning_rate': 0.1695006527365186, 'random_strength': 18, 'bagging_temperature': 0.2417798778123849, 'l2_leaf_reg': 2.8643195500497162e-05, 'border_count': 203}. Best is trial 22 with value: 0.8538102643856921.\n",
      "[I 2024-01-26 23:04:39,348] Trial 25 finished with value: 0.8553654743390358 and parameters: {'iterations': 105, 'depth': 7, 'learning_rate': 0.2570849492837204, 'random_strength': 15, 'bagging_temperature': 0.4093058515346717, 'l2_leaf_reg': 0.004129352294542126, 'border_count': 159}. Best is trial 25 with value: 0.8553654743390358.\n",
      "[I 2024-01-26 23:04:46,167] Trial 26 finished with value: 0.8351477449455676 and parameters: {'iterations': 105, 'depth': 9, 'learning_rate': 0.26981367091061775, 'random_strength': 15, 'bagging_temperature': 0.42754485683376053, 'l2_leaf_reg': 0.004464749901162159, 'border_count': 161}. Best is trial 25 with value: 0.8553654743390358.\n",
      "[I 2024-01-26 23:04:49,340] Trial 27 finished with value: 0.8444790046656299 and parameters: {'iterations': 182, 'depth': 6, 'learning_rate': 0.1314928144559075, 'random_strength': 14, 'bagging_temperature': 0.18877309022912048, 'l2_leaf_reg': 7.271961471648288e-05, 'border_count': 157}. Best is trial 25 with value: 0.8553654743390358.\n",
      "[I 2024-01-26 23:04:58,940] Trial 28 finished with value: 0.8460342146189735 and parameters: {'iterations': 269, 'depth': 8, 'learning_rate': 0.1771699528402894, 'random_strength': 19, 'bagging_temperature': 0.5422440426549838, 'l2_leaf_reg': 5.801723563566286e-06, 'border_count': 205}. Best is trial 25 with value: 0.8553654743390358.\n",
      "[I 2024-01-26 23:05:08,559] Trial 29 finished with value: 0.8491446345256609 and parameters: {'iterations': 437, 'depth': 7, 'learning_rate': 0.21070991745487755, 'random_strength': 12, 'bagging_temperature': 0.3516055728415557, 'l2_leaf_reg': 3.6309352688242273, 'border_count': 115}. Best is trial 25 with value: 0.8553654743390358.\n",
      "[I 2024-01-26 23:05:11,543] Trial 30 finished with value: 0.8475894245723172 and parameters: {'iterations': 218, 'depth': 5, 'learning_rate': 0.256454826059078, 'random_strength': 18, 'bagging_temperature': 0.4612673140957785, 'l2_leaf_reg': 3.671248664518646e-07, 'border_count': 124}. Best is trial 25 with value: 0.8553654743390358.\n",
      "[I 2024-01-26 23:05:29,581] Trial 31 finished with value: 0.8460342146189735 and parameters: {'iterations': 829, 'depth': 7, 'learning_rate': 0.23872130705166178, 'random_strength': 17, 'bagging_temperature': 0.9102102153137906, 'l2_leaf_reg': 0.023009826300231774, 'border_count': 91}. Best is trial 25 with value: 0.8553654743390358.\n",
      "[I 2024-01-26 23:05:44,559] Trial 32 finished with value: 0.8569206842923794 and parameters: {'iterations': 925, 'depth': 6, 'learning_rate': 0.21507618013530802, 'random_strength': 16, 'bagging_temperature': 0.567115373143555, 'l2_leaf_reg': 0.001343541550604184, 'border_count': 89}. Best is trial 32 with value: 0.8569206842923794.\n",
      "[I 2024-01-26 23:06:00,176] Trial 33 finished with value: 0.8491446345256609 and parameters: {'iterations': 959, 'depth': 6, 'learning_rate': 0.21562379932523068, 'random_strength': 15, 'bagging_temperature': 0.5489962972821945, 'l2_leaf_reg': 0.002187648639987159, 'border_count': 136}. Best is trial 32 with value: 0.8569206842923794.\n",
      "[I 2024-01-26 23:06:01,972] Trial 34 finished with value: 0.8491446345256609 and parameters: {'iterations': 103, 'depth': 6, 'learning_rate': 0.1839845887873418, 'random_strength': 12, 'bagging_temperature': 0.603830328710343, 'l2_leaf_reg': 4.5140952824832695e-08, 'border_count': 108}. Best is trial 32 with value: 0.8569206842923794.\n",
      "[I 2024-01-26 23:06:07,172] Trial 35 finished with value: 0.8506998444790047 and parameters: {'iterations': 406, 'depth': 5, 'learning_rate': 0.2768909213318298, 'random_strength': 19, 'bagging_temperature': 0.44667445058328575, 'l2_leaf_reg': 2.116262127777848e-05, 'border_count': 176}. Best is trial 32 with value: 0.8569206842923794.\n",
      "[I 2024-01-26 23:06:21,820] Trial 36 finished with value: 0.8506998444790047 and parameters: {'iterations': 576, 'depth': 7, 'learning_rate': 0.251650571901752, 'random_strength': 11, 'bagging_temperature': 0.28002537250096826, 'l2_leaf_reg': 0.0002107496959861843, 'border_count': 62}. Best is trial 32 with value: 0.8569206842923794.\n",
      "[I 2024-01-26 23:07:43,693] Trial 37 finished with value: 0.8475894245723172 and parameters: {'iterations': 821, 'depth': 10, 'learning_rate': 0.22012430850555542, 'random_strength': 14, 'bagging_temperature': 0.590435897599347, 'l2_leaf_reg': 0.0013404120164935659, 'border_count': 101}. Best is trial 32 with value: 0.8569206842923794.\n",
      "[I 2024-01-26 23:07:55,452] Trial 38 finished with value: 0.8367029548989113 and parameters: {'iterations': 934, 'depth': 5, 'learning_rate': 0.13892101136333182, 'random_strength': 16, 'bagging_temperature': 0.5254852747520015, 'l2_leaf_reg': 8.378962763100316e-07, 'border_count': 157}. Best is trial 32 with value: 0.8569206842923794.\n",
      "[I 2024-01-26 23:08:07,260] Trial 39 finished with value: 0.8289269051321928 and parameters: {'iterations': 335, 'depth': 8, 'learning_rate': 0.2993801206999441, 'random_strength': 20, 'bagging_temperature': 0.6896590204428992, 'l2_leaf_reg': 0.008246455383544833, 'border_count': 188}. Best is trial 32 with value: 0.8569206842923794.\n",
      "[I 2024-01-26 23:08:25,075] Trial 40 finished with value: 0.8460342146189735 and parameters: {'iterations': 785, 'depth': 7, 'learning_rate': 0.20093534274671096, 'random_strength': 10, 'bagging_temperature': 0.3183089160452381, 'l2_leaf_reg': 0.17685808722902732, 'border_count': 128}. Best is trial 32 with value: 0.8569206842923794.\n",
      "[I 2024-01-26 23:08:48,022] Trial 41 finished with value: 0.8538102643856921 and parameters: {'iterations': 882, 'depth': 7, 'learning_rate': 0.24166202031346165, 'random_strength': 18, 'bagging_temperature': 0.8326560001999925, 'l2_leaf_reg': 0.06611282640651726, 'border_count': 79}. Best is trial 32 with value: 0.8569206842923794.\n",
      "[I 2024-01-26 23:09:10,221] Trial 42 finished with value: 0.8413685847589425 and parameters: {'iterations': 835, 'depth': 7, 'learning_rate': 0.25161793835588564, 'random_strength': 18, 'bagging_temperature': 0.8402755889111462, 'l2_leaf_reg': 0.9802691784519725, 'border_count': 67}. Best is trial 32 with value: 0.8569206842923794.\n",
      "[I 2024-01-26 23:09:24,134] Trial 43 finished with value: 0.8475894245723172 and parameters: {'iterations': 731, 'depth': 6, 'learning_rate': 0.27876845050579824, 'random_strength': 19, 'bagging_temperature': 0.7121032390837598, 'l2_leaf_reg': 0.008251346093722974, 'border_count': 52}. Best is trial 32 with value: 0.8569206842923794.\n",
      "[I 2024-01-26 23:09:33,178] Trial 44 finished with value: 0.8429237947122862 and parameters: {'iterations': 878, 'depth': 4, 'learning_rate': 0.2039146397326674, 'random_strength': 16, 'bagging_temperature': 0.6002434901448617, 'l2_leaf_reg': 0.06075465024253792, 'border_count': 76}. Best is trial 32 with value: 0.8569206842923794.\n",
      "[I 2024-01-26 23:09:48,462] Trial 45 finished with value: 0.8522550544323484 and parameters: {'iterations': 952, 'depth': 6, 'learning_rate': 0.22424806329871946, 'random_strength': 13, 'bagging_temperature': 0.8092040801781493, 'l2_leaf_reg': 0.00011677630867309818, 'border_count': 87}. Best is trial 32 with value: 0.8569206842923794.\n",
      "[I 2024-01-26 23:10:22,888] Trial 46 finished with value: 0.838258164852255 and parameters: {'iterations': 1000, 'depth': 8, 'learning_rate': 0.24109451055503198, 'random_strength': 20, 'bagging_temperature': 0.47539516849156743, 'l2_leaf_reg': 1.9370368488190473, 'border_count': 169}. Best is trial 32 with value: 0.8569206842923794.\n",
      "[I 2024-01-26 23:10:41,630] Trial 47 finished with value: 0.8522550544323484 and parameters: {'iterations': 851, 'depth': 7, 'learning_rate': 0.19190677707982998, 'random_strength': 6, 'bagging_temperature': 0.874389760676905, 'l2_leaf_reg': 0.0013634395146473602, 'border_count': 139}. Best is trial 32 with value: 0.8569206842923794.\n",
      "[I 2024-01-26 23:10:56,909] Trial 48 finished with value: 0.8553654743390358 and parameters: {'iterations': 922, 'depth': 6, 'learning_rate': 0.26179764759264446, 'random_strength': 15, 'bagging_temperature': 0.7765096191411858, 'l2_leaf_reg': 0.32986392022726885, 'border_count': 102}. Best is trial 32 with value: 0.8569206842923794.\n",
      "[I 2024-01-26 23:11:32,005] Trial 49 finished with value: 0.8413685847589425 and parameters: {'iterations': 897, 'depth': 8, 'learning_rate': 0.2650523407669428, 'random_strength': 15, 'bagging_temperature': 0.77383854401475, 'l2_leaf_reg': 0.013760873968412638, 'border_count': 58}. Best is trial 32 with value: 0.8569206842923794.\n",
      "[I 2024-01-26 23:11:46,647] Trial 50 finished with value: 0.8491446345256609 and parameters: {'iterations': 776, 'depth': 6, 'learning_rate': 0.28903843887216546, 'random_strength': 14, 'bagging_temperature': 0.42013037205677495, 'l2_leaf_reg': 0.0855161128531896, 'border_count': 37}. Best is trial 32 with value: 0.8569206842923794.\n",
      "[I 2024-01-26 23:11:58,750] Trial 51 finished with value: 0.8289269051321928 and parameters: {'iterations': 909, 'depth': 5, 'learning_rate': 0.24894577591119452, 'random_strength': 18, 'bagging_temperature': 0.9438482880453591, 'l2_leaf_reg': 0.46267624843408117, 'border_count': 99}. Best is trial 32 with value: 0.8569206842923794.\n",
      "[I 2024-01-26 23:12:18,231] Trial 52 finished with value: 0.8475894245723172 and parameters: {'iterations': 969, 'depth': 6, 'learning_rate': 0.22959091979306676, 'random_strength': 16, 'bagging_temperature': 0.6331065537482191, 'l2_leaf_reg': 2.8280773812060125, 'border_count': 80}. Best is trial 32 with value: 0.8569206842923794.\n",
      "[I 2024-01-26 23:12:30,162] Trial 53 finished with value: 0.8444790046656299 and parameters: {'iterations': 514, 'depth': 7, 'learning_rate': 0.26349394921183944, 'random_strength': 17, 'bagging_temperature': 0.7057208988015808, 'l2_leaf_reg': 0.5489645659878285, 'border_count': 120}. Best is trial 32 with value: 0.8569206842923794.\n",
      "[I 2024-01-26 23:12:46,201] Trial 54 finished with value: 0.8460342146189735 and parameters: {'iterations': 927, 'depth': 6, 'learning_rate': 0.24162564308310067, 'random_strength': 16, 'bagging_temperature': 0.5097789916438565, 'l2_leaf_reg': 8.463342154562076, 'border_count': 106}. Best is trial 32 with value: 0.8569206842923794.\n",
      "[I 2024-01-26 23:13:02,355] Trial 55 finished with value: 0.8506998444790047 and parameters: {'iterations': 707, 'depth': 7, 'learning_rate': 0.16979066903786455, 'random_strength': 18, 'bagging_temperature': 0.8148465118932627, 'l2_leaf_reg': 0.20587822008798867, 'border_count': 149}. Best is trial 32 with value: 0.8569206842923794.\n",
      "[I 2024-01-26 23:13:21,106] Trial 56 finished with value: 0.8506998444790047 and parameters: {'iterations': 861, 'depth': 7, 'learning_rate': 0.2798707494324847, 'random_strength': 12, 'bagging_temperature': 0.7509647374425772, 'l2_leaf_reg': 0.000430315300172399, 'border_count': 95}. Best is trial 32 with value: 0.8569206842923794.\n",
      "[I 2024-01-26 23:13:31,926] Trial 57 finished with value: 0.8444790046656299 and parameters: {'iterations': 640, 'depth': 6, 'learning_rate': 0.2110104385611061, 'random_strength': 19, 'bagging_temperature': 0.6588406590345914, 'l2_leaf_reg': 0.0034784264652834404, 'border_count': 130}. Best is trial 32 with value: 0.8569206842923794.\n",
      "[I 2024-01-26 23:13:45,855] Trial 58 finished with value: 0.8460342146189735 and parameters: {'iterations': 797, 'depth': 6, 'learning_rate': 0.0525725312934785, 'random_strength': 13, 'bagging_temperature': 0.8598355859494066, 'l2_leaf_reg': 0.040276057922060786, 'border_count': 118}. Best is trial 32 with value: 0.8569206842923794.\n",
      "[I 2024-01-26 23:13:52,151] Trial 59 finished with value: 0.8398133748055988 and parameters: {'iterations': 267, 'depth': 7, 'learning_rate': 0.22785853574685164, 'random_strength': 15, 'bagging_temperature': 0.5688404245116752, 'l2_leaf_reg': 0.11144191172766185, 'border_count': 151}. Best is trial 32 with value: 0.8569206842923794.\n",
      "[I 2024-01-26 23:14:54,975] Trial 60 finished with value: 0.8367029548989113 and parameters: {'iterations': 986, 'depth': 9, 'learning_rate': 0.2613400586018537, 'random_strength': 17, 'bagging_temperature': 0.3687018826684324, 'l2_leaf_reg': 1.4636808041394385e-05, 'border_count': 69}. Best is trial 32 with value: 0.8569206842923794.\n",
      "[I 2024-01-26 23:15:14,974] Trial 61 finished with value: 0.8475894245723172 and parameters: {'iterations': 932, 'depth': 7, 'learning_rate': 0.24188291854525684, 'random_strength': 17, 'bagging_temperature': 0.9462786936593196, 'l2_leaf_reg': 0.024262150798034496, 'border_count': 87}. Best is trial 32 with value: 0.8569206842923794.\n",
      "[I 2024-01-26 23:15:34,583] Trial 62 finished with value: 0.8491446345256609 and parameters: {'iterations': 887, 'depth': 7, 'learning_rate': 0.23346691764704194, 'random_strength': 20, 'bagging_temperature': 0.9818388587309563, 'l2_leaf_reg': 0.0009170284666878134, 'border_count': 166}. Best is trial 32 with value: 0.8569206842923794.\n",
      "[I 2024-01-26 23:15:39,638] Trial 63 finished with value: 0.8413685847589425 and parameters: {'iterations': 144, 'depth': 8, 'learning_rate': 0.20696615651590752, 'random_strength': 15, 'bagging_temperature': 0.009090062267471333, 'l2_leaf_reg': 0.013365706443306286, 'border_count': 85}. Best is trial 32 with value: 0.8569206842923794.\n",
      "[I 2024-01-26 23:15:59,750] Trial 64 finished with value: 0.8538102643856921 and parameters: {'iterations': 910, 'depth': 7, 'learning_rate': 0.2190946794086569, 'random_strength': 17, 'bagging_temperature': 0.9224525928725592, 'l2_leaf_reg': 0.002696328155236784, 'border_count': 106}. Best is trial 32 with value: 0.8569206842923794.\n",
      "[I 2024-01-26 23:16:15,454] Trial 65 finished with value: 0.8506998444790047 and parameters: {'iterations': 953, 'depth': 6, 'learning_rate': 0.18304352061989226, 'random_strength': 14, 'bagging_temperature': 0.7794116152096584, 'l2_leaf_reg': 0.00017589659970333675, 'border_count': 142}. Best is trial 32 with value: 0.8569206842923794.\n",
      "[I 2024-01-26 23:16:27,877] Trial 66 finished with value: 0.8506998444790047 and parameters: {'iterations': 753, 'depth': 6, 'learning_rate': 0.22174551547669946, 'random_strength': 16, 'bagging_temperature': 0.8957078028964689, 'l2_leaf_reg': 5.919294903384744e-05, 'border_count': 112}. Best is trial 32 with value: 0.8569206842923794.\n",
      "[I 2024-01-26 23:16:38,885] Trial 67 finished with value: 0.8367029548989113 and parameters: {'iterations': 855, 'depth': 5, 'learning_rate': 0.1923578818336232, 'random_strength': 8, 'bagging_temperature': 0.9444684151182022, 'l2_leaf_reg': 0.004644205747569789, 'border_count': 104}. Best is trial 32 with value: 0.8569206842923794.\n",
      "[I 2024-01-26 23:16:58,828] Trial 68 finished with value: 0.8429237947122862 and parameters: {'iterations': 905, 'depth': 7, 'learning_rate': 0.2460535478604685, 'random_strength': 17, 'bagging_temperature': 0.8150716633601378, 'l2_leaf_reg': 0.002629422438870242, 'border_count': 94}. Best is trial 32 with value: 0.8569206842923794.\n",
      "[I 2024-01-26 23:17:26,210] Trial 69 finished with value: 0.8491446345256609 and parameters: {'iterations': 808, 'depth': 8, 'learning_rate': 0.1981434293411779, 'random_strength': 19, 'bagging_temperature': 0.40144209066782255, 'l2_leaf_reg': 0.0003419644299791494, 'border_count': 130}. Best is trial 32 with value: 0.8569206842923794.\n",
      "[I 2024-01-26 23:17:40,272] Trial 70 finished with value: 0.8491446345256609 and parameters: {'iterations': 607, 'depth': 7, 'learning_rate': 0.11655667835352665, 'random_strength': 18, 'bagging_temperature': 0.7482579475094303, 'l2_leaf_reg': 5.223525285304284, 'border_count': 122}. Best is trial 32 with value: 0.8569206842923794.\n",
      "[I 2024-01-26 23:18:03,413] Trial 71 finished with value: 0.8475894245723172 and parameters: {'iterations': 879, 'depth': 7, 'learning_rate': 0.2162067963817268, 'random_strength': 2, 'bagging_temperature': 0.9307182345413582, 'l2_leaf_reg': 0.04146781230253427, 'border_count': 78}. Best is trial 32 with value: 0.8569206842923794.\n",
      "[I 2024-01-26 23:18:24,369] Trial 72 finished with value: 0.8491446345256609 and parameters: {'iterations': 951, 'depth': 7, 'learning_rate': 0.25635540472487617, 'random_strength': 17, 'bagging_temperature': 0.9676427782502481, 'l2_leaf_reg': 0.005875774113387126, 'border_count': 100}. Best is trial 32 with value: 0.8569206842923794.\n",
      "[I 2024-01-26 23:18:39,445] Trial 73 finished with value: 0.8553654743390358 and parameters: {'iterations': 916, 'depth': 6, 'learning_rate': 0.23121814869486806, 'random_strength': 16, 'bagging_temperature': 0.8773594348569912, 'l2_leaf_reg': 0.0015939263488412563, 'border_count': 110}. Best is trial 32 with value: 0.8569206842923794.\n",
      "[I 2024-01-26 23:18:54,551] Trial 74 finished with value: 0.8460342146189735 and parameters: {'iterations': 918, 'depth': 6, 'learning_rate': 0.2718691099145315, 'random_strength': 15, 'bagging_temperature': 0.8559038106334738, 'l2_leaf_reg': 0.0013302123193558448, 'border_count': 110}. Best is trial 32 with value: 0.8569206842923794.\n",
      "[I 2024-01-26 23:18:59,450] Trial 75 finished with value: 0.8475894245723172 and parameters: {'iterations': 361, 'depth': 5, 'learning_rate': 0.28817112135775147, 'random_strength': 16, 'bagging_temperature': 0.4924690544565631, 'l2_leaf_reg': 0.0015904546635249314, 'border_count': 135}. Best is trial 32 with value: 0.8569206842923794.\n",
      "[I 2024-01-26 23:19:15,455] Trial 76 finished with value: 0.8398133748055988 and parameters: {'iterations': 973, 'depth': 6, 'learning_rate': 0.23389038295510886, 'random_strength': 14, 'bagging_temperature': 0.9109806673335942, 'l2_leaf_reg': 0.012187061863094605, 'border_count': 114}. Best is trial 32 with value: 0.8569206842923794.\n",
      "[I 2024-01-26 23:19:29,673] Trial 77 finished with value: 0.8413685847589425 and parameters: {'iterations': 836, 'depth': 6, 'learning_rate': 0.2238898883228408, 'random_strength': 18, 'bagging_temperature': 0.5761251932673752, 'l2_leaf_reg': 0.821392974359641, 'border_count': 90}. Best is trial 32 with value: 0.8569206842923794.\n",
      "[I 2024-01-26 23:19:37,753] Trial 78 finished with value: 0.8491446345256609 and parameters: {'iterations': 473, 'depth': 6, 'learning_rate': 0.21107412254916286, 'random_strength': 20, 'bagging_temperature': 0.6208120672612704, 'l2_leaf_reg': 0.0008531557228974827, 'border_count': 153}. Best is trial 32 with value: 0.8569206842923794.\n",
      "[I 2024-01-26 23:19:40,672] Trial 79 finished with value: 0.8351477449455676 and parameters: {'iterations': 212, 'depth': 5, 'learning_rate': 0.15015571741382625, 'random_strength': 13, 'bagging_temperature': 0.8838203106485043, 'l2_leaf_reg': 0.000584211308970123, 'border_count': 173}. Best is trial 32 with value: 0.8569206842923794.\n",
      "[I 2024-01-26 23:20:12,270] Trial 80 finished with value: 0.8506998444790047 and parameters: {'iterations': 939, 'depth': 8, 'learning_rate': 0.25876428713671884, 'random_strength': 19, 'bagging_temperature': 0.7204694412867911, 'l2_leaf_reg': 2.8544667444780993e-06, 'border_count': 186}. Best is trial 32 with value: 0.8569206842923794.\n",
      "[I 2024-01-26 23:20:35,656] Trial 81 finished with value: 0.8491446345256609 and parameters: {'iterations': 881, 'depth': 7, 'learning_rate': 0.24652897323115797, 'random_strength': 16, 'bagging_temperature': 0.9787572412935233, 'l2_leaf_reg': 0.35567654771824275, 'border_count': 81}. Best is trial 32 with value: 0.8569206842923794.\n",
      "[I 2024-01-26 23:20:59,110] Trial 82 finished with value: 0.8413685847589425 and parameters: {'iterations': 908, 'depth': 7, 'learning_rate': 0.23498010889523102, 'random_strength': 17, 'bagging_temperature': 0.8244144992420441, 'l2_leaf_reg': 0.027786250606534203, 'border_count': 62}. Best is trial 32 with value: 0.8569206842923794.\n",
      "[I 2024-01-26 23:21:17,947] Trial 83 finished with value: 0.8475894245723172 and parameters: {'iterations': 983, 'depth': 6, 'learning_rate': 0.22002866267499993, 'random_strength': 15, 'bagging_temperature': 0.44903652719570886, 'l2_leaf_reg': 0.06867723251895748, 'border_count': 71}. Best is trial 32 with value: 0.8569206842923794.\n",
      "[I 2024-01-26 23:21:36,561] Trial 84 finished with value: 0.8538102643856921 and parameters: {'iterations': 845, 'depth': 7, 'learning_rate': 0.22806098622175486, 'random_strength': 16, 'bagging_temperature': 0.9983517483046185, 'l2_leaf_reg': 0.008302703223869605, 'border_count': 99}. Best is trial 32 with value: 0.8569206842923794.\n",
      "[I 2024-01-26 23:21:55,179] Trial 85 finished with value: 0.8553654743390358 and parameters: {'iterations': 853, 'depth': 7, 'learning_rate': 0.20478267847563442, 'random_strength': 15, 'bagging_temperature': 0.9956030182919363, 'l2_leaf_reg': 0.0026460339819507333, 'border_count': 98}. Best is trial 32 with value: 0.8569206842923794.\n",
      "[I 2024-01-26 23:22:13,448] Trial 86 finished with value: 0.8522550544323484 and parameters: {'iterations': 818, 'depth': 7, 'learning_rate': 0.22837663388183913, 'random_strength': 15, 'bagging_temperature': 0.9235729107886557, 'l2_leaf_reg': 0.002119145743344057, 'border_count': 248}. Best is trial 32 with value: 0.8569206842923794.\n",
      "[I 2024-01-26 23:22:32,272] Trial 87 finished with value: 0.8522550544323484 and parameters: {'iterations': 856, 'depth': 7, 'learning_rate': 0.20522227040597965, 'random_strength': 11, 'bagging_temperature': 0.958382302129633, 'l2_leaf_reg': 0.0072133947597663875, 'border_count': 97}. Best is trial 32 with value: 0.8569206842923794.\n",
      "[I 2024-01-26 23:22:57,850] Trial 88 finished with value: 0.8491446345256609 and parameters: {'iterations': 771, 'depth': 8, 'learning_rate': 0.2403220433818272, 'random_strength': 16, 'bagging_temperature': 0.8954454060627302, 'l2_leaf_reg': 0.00021104297159950727, 'border_count': 92}. Best is trial 32 with value: 0.8569206842923794.\n",
      "[I 2024-01-26 23:23:12,847] Trial 89 finished with value: 0.8413685847589425 and parameters: {'iterations': 682, 'depth': 7, 'learning_rate': 0.27156836138134144, 'random_strength': 14, 'bagging_temperature': 0.9945638096520677, 'l2_leaf_reg': 0.00326496389327724, 'border_count': 104}. Best is trial 32 with value: 0.8569206842923794.\n",
      "[I 2024-01-26 23:23:34,367] Trial 90 finished with value: 0.8506998444790047 and parameters: {'iterations': 835, 'depth': 7, 'learning_rate': 0.17056626870654074, 'random_strength': 16, 'bagging_temperature': 0.8462332330979028, 'l2_leaf_reg': 9.454387081571403e-05, 'border_count': 73}. Best is trial 32 with value: 0.8569206842923794.\n",
      "[I 2024-01-26 23:23:49,154] Trial 91 finished with value: 0.8475894245723172 and parameters: {'iterations': 891, 'depth': 6, 'learning_rate': 0.19670788248246876, 'random_strength': 18, 'bagging_temperature': 0.9996626303234772, 'l2_leaf_reg': 0.013850109755510298, 'border_count': 109}. Best is trial 32 with value: 0.8569206842923794.\n",
      "[I 2024-01-26 23:24:04,352] Trial 92 finished with value: 0.8522550544323484 and parameters: {'iterations': 931, 'depth': 6, 'learning_rate': 0.18200355322743797, 'random_strength': 15, 'bagging_temperature': 0.6790424951415555, 'l2_leaf_reg': 0.0006216098112717558, 'border_count': 125}. Best is trial 32 with value: 0.8569206842923794.\n",
      "[I 2024-01-26 23:24:23,451] Trial 93 finished with value: 0.8522550544323484 and parameters: {'iterations': 865, 'depth': 7, 'learning_rate': 0.21595831341020433, 'random_strength': 17, 'bagging_temperature': 0.8781688177678524, 'l2_leaf_reg': 0.004793381833750147, 'border_count': 102}. Best is trial 32 with value: 0.8569206842923794.\n",
      "[I 2024-01-26 23:24:36,123] Trial 94 finished with value: 0.8413685847589425 and parameters: {'iterations': 545, 'depth': 7, 'learning_rate': 0.20973202856467105, 'random_strength': 14, 'bagging_temperature': 0.5221795667836008, 'l2_leaf_reg': 1.7580521371181885, 'border_count': 164}. Best is trial 32 with value: 0.8569206842923794.\n",
      "[I 2024-01-26 23:24:57,074] Trial 95 finished with value: 0.8584758942457231 and parameters: {'iterations': 960, 'depth': 7, 'learning_rate': 0.25098446150639564, 'random_strength': 15, 'bagging_temperature': 0.8024605875151001, 'l2_leaf_reg': 0.0010649207814726117, 'border_count': 118}. Best is trial 95 with value: 0.8584758942457231.\n",
      "[I 2024-01-26 23:25:21,640] Trial 96 finished with value: 0.8538102643856921 and parameters: {'iterations': 964, 'depth': 7, 'learning_rate': 0.24810217331893497, 'random_strength': 13, 'bagging_temperature': 0.788436470378755, 'l2_leaf_reg': 0.009671048930117929, 'border_count': 84}. Best is trial 95 with value: 0.8584758942457231.\n",
      "[I 2024-01-26 23:25:43,460] Trial 97 finished with value: 0.8460342146189735 and parameters: {'iterations': 991, 'depth': 7, 'learning_rate': 0.2575409013887491, 'random_strength': 16, 'bagging_temperature': 0.34699362983886806, 'l2_leaf_reg': 0.0009818110857508294, 'border_count': 159}. Best is trial 95 with value: 0.8584758942457231.\n",
      "[I 2024-01-26 23:25:57,249] Trial 98 finished with value: 0.8491446345256609 and parameters: {'iterations': 401, 'depth': 8, 'learning_rate': 0.26505682508873757, 'random_strength': 15, 'bagging_temperature': 0.9097444968467947, 'l2_leaf_reg': 0.0021212419687374902, 'border_count': 118}. Best is trial 95 with value: 0.8584758942457231.\n",
      "[I 2024-01-26 23:26:04,157] Trial 99 finished with value: 0.8506998444790047 and parameters: {'iterations': 300, 'depth': 7, 'learning_rate': 0.28193353631671836, 'random_strength': 14, 'bagging_temperature': 0.8706954200289868, 'l2_leaf_reg': 0.15527349420215386, 'border_count': 96}. Best is trial 95 with value: 0.8584758942457231.\n"
     ]
    },
    {
     "name": "stdout",
     "output_type": "stream",
     "text": [
      "Best parameters: {'iterations': 960, 'depth': 7, 'learning_rate': 0.25098446150639564, 'random_strength': 15, 'bagging_temperature': 0.8024605875151001, 'l2_leaf_reg': 0.0010649207814726117, 'border_count': 118}\n",
      "0:\tlearn: 0.6623998\ttotal: 14.2ms\tremaining: 13.6s\n",
      "20:\tlearn: 0.4480038\ttotal: 486ms\tremaining: 21.7s\n",
      "40:\tlearn: 0.3252968\ttotal: 912ms\tremaining: 20.4s\n",
      "60:\tlearn: 0.1544298\ttotal: 1.39s\tremaining: 20.5s\n",
      "80:\tlearn: 0.0778018\ttotal: 1.82s\tremaining: 19.7s\n",
      "100:\tlearn: 0.0447394\ttotal: 2.29s\tremaining: 19.5s\n",
      "120:\tlearn: 0.0275127\ttotal: 2.78s\tremaining: 19.3s\n",
      "140:\tlearn: 0.0177963\ttotal: 3.21s\tremaining: 18.6s\n",
      "160:\tlearn: 0.0125196\ttotal: 3.68s\tremaining: 18.2s\n",
      "180:\tlearn: 0.0092503\ttotal: 4.12s\tremaining: 17.7s\n",
      "200:\tlearn: 0.0073911\ttotal: 4.57s\tremaining: 17.3s\n",
      "220:\tlearn: 0.0061814\ttotal: 5s\tremaining: 16.7s\n",
      "240:\tlearn: 0.0054083\ttotal: 5.47s\tremaining: 16.3s\n",
      "260:\tlearn: 0.0049213\ttotal: 5.89s\tremaining: 15.8s\n",
      "280:\tlearn: 0.0046788\ttotal: 6.31s\tremaining: 15.2s\n",
      "300:\tlearn: 0.0046125\ttotal: 6.77s\tremaining: 14.8s\n",
      "320:\tlearn: 0.0045538\ttotal: 7.19s\tremaining: 14.3s\n",
      "340:\tlearn: 0.0044591\ttotal: 7.6s\tremaining: 13.8s\n",
      "360:\tlearn: 0.0044584\ttotal: 8.06s\tremaining: 13.4s\n",
      "380:\tlearn: 0.0044573\ttotal: 8.47s\tremaining: 12.9s\n",
      "400:\tlearn: 0.0044559\ttotal: 8.88s\tremaining: 12.4s\n",
      "420:\tlearn: 0.0044554\ttotal: 9.29s\tremaining: 11.9s\n",
      "440:\tlearn: 0.0044547\ttotal: 9.7s\tremaining: 11.4s\n",
      "460:\tlearn: 0.0044536\ttotal: 10.2s\tremaining: 11s\n",
      "480:\tlearn: 0.0044112\ttotal: 10.5s\tremaining: 10.5s\n",
      "500:\tlearn: 0.0043955\ttotal: 10.9s\tremaining: 10s\n",
      "520:\tlearn: 0.0043920\ttotal: 11.4s\tremaining: 9.57s\n",
      "540:\tlearn: 0.0043496\ttotal: 11.8s\tremaining: 9.15s\n",
      "560:\tlearn: 0.0043494\ttotal: 12.2s\tremaining: 8.7s\n",
      "580:\tlearn: 0.0043491\ttotal: 12.6s\tremaining: 8.24s\n",
      "600:\tlearn: 0.0043484\ttotal: 13s\tremaining: 7.79s\n",
      "620:\tlearn: 0.0043477\ttotal: 13.4s\tremaining: 7.34s\n",
      "640:\tlearn: 0.0043468\ttotal: 13.9s\tremaining: 6.92s\n",
      "660:\tlearn: 0.0043461\ttotal: 14.3s\tremaining: 6.47s\n",
      "680:\tlearn: 0.0043379\ttotal: 14.7s\tremaining: 6.03s\n",
      "700:\tlearn: 0.0043373\ttotal: 15.1s\tremaining: 5.59s\n",
      "720:\tlearn: 0.0043307\ttotal: 15.6s\tremaining: 5.17s\n",
      "740:\tlearn: 0.0043293\ttotal: 16s\tremaining: 4.73s\n",
      "760:\tlearn: 0.0043191\ttotal: 16.4s\tremaining: 4.29s\n",
      "780:\tlearn: 0.0043188\ttotal: 16.8s\tremaining: 3.86s\n",
      "800:\tlearn: 0.0043146\ttotal: 17.3s\tremaining: 3.43s\n",
      "820:\tlearn: 0.0042887\ttotal: 17.7s\tremaining: 3s\n",
      "840:\tlearn: 0.0042880\ttotal: 18.1s\tremaining: 2.56s\n",
      "860:\tlearn: 0.0042873\ttotal: 18.6s\tremaining: 2.14s\n",
      "880:\tlearn: 0.0042792\ttotal: 19s\tremaining: 1.7s\n",
      "900:\tlearn: 0.0042781\ttotal: 19.4s\tremaining: 1.27s\n",
      "920:\tlearn: 0.0042637\ttotal: 19.9s\tremaining: 842ms\n",
      "940:\tlearn: 0.0042192\ttotal: 20.3s\tremaining: 410ms\n",
      "959:\tlearn: 0.0042181\ttotal: 20.7s\tremaining: 0us\n",
      "Improved CatBoostClassifier Model Accuracy: 85.8476%\n"
     ]
    }
   ],
   "source": [
    "def objective(trial):\n",
    "    param = {\n",
    "        'iterations': trial.suggest_int('iterations', 100, 1000),\n",
    "        'depth': trial.suggest_int('depth', 4, 10),\n",
    "        'learning_rate': trial.suggest_float('learning_rate', 0.01, 0.3),\n",
    "        'random_strength': trial.suggest_int('random_strength', 1, 20),\n",
    "        'bagging_temperature': trial.suggest_float('bagging_temperature', 0.0, 1.0),\n",
    "        'l2_leaf_reg': trial.suggest_float('l2_leaf_reg', 1e-8, 10.0, log=True),\n",
    "        'border_count': trial.suggest_int('border_count', 32, 255),\n",
    "        'loss_function': 'Logloss',\n",
    "        'verbose': False,\n",
    "        'random_state': 0\n",
    "    }\n",
    "\n",
    "    cat = CatBoostClassifier(**param)\n",
    "    cat.fit(X_train_transformed, Y_train, verbose=0, early_stopping_rounds=50)\n",
    "\n",
    "    y_pred = cat.predict(X_test_transformed)\n",
    "    accuracy = accuracy_score(Y_test, y_pred)\n",
    "    return accuracy\n",
    "\n",
    "study = optuna.create_study(direction='maximize')\n",
    "study.optimize(objective, n_trials=100)\n",
    "\n",
    "# Best parameters after optimization\n",
    "best_params = study.best_params\n",
    "print(\"Best parameters:\", best_params)\n",
    "\n",
    "# Train the best model\n",
    "best_cat = CatBoostClassifier(**best_params)\n",
    "best_cat.fit(X_train_transformed, Y_train, verbose=20)\n",
    "\n",
    "# Evaluation\n",
    "y_pred_best_cat = best_cat.predict(X_test_transformed)\n",
    "accuracy_cat_best = accuracy_score(Y_test, y_pred_best_cat)\n",
    "print(\"Improved CatBoostClassifier Model Accuracy: {:.4f}%\".format(accuracy_cat_best * 100))"
   ]
  },
  {
   "cell_type": "code",
   "execution_count": 32,
   "id": "0eaa990f",
   "metadata": {},
   "outputs": [
    {
     "name": "stdout",
     "output_type": "stream",
     "text": [
      "           Model  Accuracy\n",
      "1    Naive Bayes  0.863142\n",
      "0          Logit  0.861586\n",
      "3            ANN  0.861586\n",
      "7       CatBoost  0.858476\n",
      "6       LightGBM  0.841369\n",
      "5  Random Forest  0.836703\n",
      "2        XGBoost  0.835148\n",
      "4  Decision Tree  0.800933\n"
     ]
    }
   ],
   "source": [
    "import pandas as pd\n",
    "\n",
    "# Create a DataFrame to compare the scores\n",
    "model_comparison = pd.DataFrame({\n",
    "    'Model': ['Logit','Naive Bayes','XGBoost','ANN','Decision Tree','Random Forest','LightGBM','CatBoost'],\n",
    "    'Accuracy': [accuracy_logit_best,\n",
    "                  accuracy_NB_best,\n",
    "                  accuracy_xgboost_best,\n",
    "                  accuracy_dl_best,\n",
    "                  accuracy_dt_best,\n",
    "                  accuracy_rf_best,\n",
    "                  accuracy_lgb_best,\n",
    "                  accuracy_cat_best]\n",
    "})\n",
    "\n",
    "# Sort the DataFrame based on score for better visualization\n",
    "model_comparison.sort_values(by='Accuracy', ascending=False, inplace=True)\n",
    "\n",
    "# Display the DataFrame\n",
    "print(model_comparison)"
   ]
  },
  {
   "cell_type": "code",
   "execution_count": 33,
   "id": "34b06204",
   "metadata": {},
   "outputs": [
    {
     "data": {
      "image/png": "[encoded data removed]",
      "text/plain": [
       "<Figure size 720x432 with 1 Axes>"
      ]
     },
     "metadata": {
      "needs_background": "light"
     },
     "output_type": "display_data"
    }
   ],
   "source": [
    "plt.figure(figsize=(10, 6))\n",
    "# Multiply accuracy values by 100 to convert to percentages\n",
    "bars = plt.bar(model_comparison['Model'], model_comparison['Accuracy'] * 100, color='skyblue')\n",
    "\n",
    "# Add the accuracy values (in %) on top of the bars\n",
    "for bar in bars:\n",
    "    yval = bar.get_height()\n",
    "    plt.text(bar.get_x() + bar.get_width()/2, yval, f'{yval:.2f}%', ha='center', va='bottom')  # Added '%' sign\n",
    "\n",
    "plt.xlabel('Models')\n",
    "plt.xticks(rotation=90)\n",
    "plt.ylabel('Accuracy (%)')  # Indicate that accuracy is in percentage\n",
    "plt.title('Model Accuracy Comparison')\n",
    "\n",
    "# Set the y-axis limits (adjust according to the percentage values)\n",
    "plt.ylim(75, 88)  # Adjusted limits to percentage scale\n",
    "\n",
    "plt.show()\n"
   ]
  }
 ],
 "metadata": {
  "kernelspec": {
   "display_name": "Python 3.9 (Default)",
   "language": "python",
   "name": "python3"
  },
  "language_info": {
   "codemirror_mode": {
    "name": "ipython",
    "version": 3
   },
   "file_extension": ".py",
   "mimetype": "text/x-python",
   "name": "python",
   "nbconvert_exporter": "python",
   "pygments_lexer": "ipython3",
   "version": "3.9.7"
  }
 },
 "nbformat": 4,
 "nbformat_minor": 5
}
